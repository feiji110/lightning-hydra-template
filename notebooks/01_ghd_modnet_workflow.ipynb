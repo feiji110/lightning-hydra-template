{
 "cells": [
  {
   "cell_type": "code",
   "execution_count": 1,
   "metadata": {},
   "outputs": [],
   "source": [
    "# !pip install tensorflow==2.15"
   ]
  },
  {
   "cell_type": "code",
   "execution_count": 2,
   "metadata": {},
   "outputs": [
    {
     "name": "stderr",
     "output_type": "stream",
     "text": [
      "/root/miniconda3/envs/modnetori/lib/python3.9/site-packages/tqdm/auto.py:21: TqdmWarning: IProgress not found. Please update jupyter and ipywidgets. See https://ipywidgets.readthedocs.io/en/stable/user_install.html\n",
      "  from .autonotebook import tqdm as notebook_tqdm\n",
      "2024-01-21 17:18:24.429652: I tensorflow/core/util/port.cc:113] oneDNN custom operations are on. You may see slightly different numerical results due to floating-point round-off errors from different computation orders. To turn them off, set the environment variable `TF_ENABLE_ONEDNN_OPTS=0`.\n",
      "2024-01-21 17:18:24.518868: E external/local_xla/xla/stream_executor/cuda/cuda_dnn.cc:9261] Unable to register cuDNN factory: Attempting to register factory for plugin cuDNN when one has already been registered\n",
      "2024-01-21 17:18:24.518913: E external/local_xla/xla/stream_executor/cuda/cuda_fft.cc:607] Unable to register cuFFT factory: Attempting to register factory for plugin cuFFT when one has already been registered\n",
      "2024-01-21 17:18:24.520502: E external/local_xla/xla/stream_executor/cuda/cuda_blas.cc:1515] Unable to register cuBLAS factory: Attempting to register factory for plugin cuBLAS when one has already been registered\n",
      "2024-01-21 17:18:24.531222: I tensorflow/core/platform/cpu_feature_guard.cc:182] This TensorFlow binary is optimized to use available CPU instructions in performance-critical operations.\n",
      "To enable the following instructions: AVX2 AVX_VNNI FMA, in other operations, rebuild TensorFlow with the appropriate compiler flags.\n",
      "2024-01-21 17:18:26.137233: W tensorflow/compiler/tf2tensorrt/utils/py_utils.cc:38] TF-TRT Warning: Could not find TensorRT\n"
     ]
    }
   ],
   "source": [
    "from modnet.preprocessing import MODData\n",
    "from modnet.models import MODNetModel"
   ]
  },
  {
   "cell_type": "code",
   "execution_count": 3,
   "metadata": {},
   "outputs": [
    {
     "data": {
      "text/html": [
       "<div>\n",
       "<style scoped>\n",
       "    .dataframe tbody tr th:only-of-type {\n",
       "        vertical-align: middle;\n",
       "    }\n",
       "\n",
       "    .dataframe tbody tr th {\n",
       "        vertical-align: top;\n",
       "    }\n",
       "\n",
       "    .dataframe thead th {\n",
       "        text-align: right;\n",
       "    }\n",
       "</style>\n",
       "<table border=\"1\" class=\"dataframe\">\n",
       "  <thead>\n",
       "    <tr style=\"text-align: right;\">\n",
       "      <th></th>\n",
       "      <th>material_id</th>\n",
       "      <th>structure</th>\n",
       "      <th>graph</th>\n",
       "      <th>formation_energy_per_atom</th>\n",
       "      <th>band_gap</th>\n",
       "      <th>G</th>\n",
       "      <th>K</th>\n",
       "    </tr>\n",
       "  </thead>\n",
       "  <tbody>\n",
       "    <tr>\n",
       "      <th>0</th>\n",
       "      <td>mvc-8151</td>\n",
       "      <td># generated using pymatgen\\ndata_MgSn(GeO3)2\\n...</td>\n",
       "      <td>{'index1': [0, 0, 0, 0, 0, 0, 0, 0, 0, 0, 0, 0...</td>\n",
       "      <td>-2.166565</td>\n",
       "      <td>2.2274</td>\n",
       "      <td>NaN</td>\n",
       "      <td>NaN</td>\n",
       "    </tr>\n",
       "    <tr>\n",
       "      <th>1</th>\n",
       "      <td>mvc-8154</td>\n",
       "      <td>#\\#CIF1.1\\n###################################...</td>\n",
       "      <td>{'index1': [0, 0, 0, 0, 0, 0, 0, 0, 0, 0, 0, 0...</td>\n",
       "      <td>-1.336841</td>\n",
       "      <td>0.0000</td>\n",
       "      <td>NaN</td>\n",
       "      <td>NaN</td>\n",
       "    </tr>\n",
       "    <tr>\n",
       "      <th>2</th>\n",
       "      <td>mvc-1148</td>\n",
       "      <td>#\\#CIF1.1\\n###################################...</td>\n",
       "      <td>{'index1': [0, 0, 0, 0, 0, 0, 0, 0, 0, 0, 0, 0...</td>\n",
       "      <td>-2.264626</td>\n",
       "      <td>0.0606</td>\n",
       "      <td>NaN</td>\n",
       "      <td>NaN</td>\n",
       "    </tr>\n",
       "    <tr>\n",
       "      <th>3</th>\n",
       "      <td>mvc-14313</td>\n",
       "      <td>#\\#CIF1.1\\n###################################...</td>\n",
       "      <td>{'index1': [0, 0, 0, 0, 0, 0, 0, 0, 0, 0, 0, 0...</td>\n",
       "      <td>-2.301683</td>\n",
       "      <td>1.3002</td>\n",
       "      <td>NaN</td>\n",
       "      <td>NaN</td>\n",
       "    </tr>\n",
       "    <tr>\n",
       "      <th>4</th>\n",
       "      <td>mvc-13470</td>\n",
       "      <td>#\\#CIF1.1\\n###################################...</td>\n",
       "      <td>{'index1': [0, 0, 0, 0, 0, 0, 1, 1, 1, 1, 1, 1...</td>\n",
       "      <td>-2.935452</td>\n",
       "      <td>0.0546</td>\n",
       "      <td>NaN</td>\n",
       "      <td>NaN</td>\n",
       "    </tr>\n",
       "  </tbody>\n",
       "</table>\n",
       "</div>"
      ],
      "text/plain": [
       "  material_id                                          structure  \\\n",
       "0    mvc-8151  # generated using pymatgen\\ndata_MgSn(GeO3)2\\n...   \n",
       "1    mvc-8154  #\\#CIF1.1\\n###################################...   \n",
       "2    mvc-1148  #\\#CIF1.1\\n###################################...   \n",
       "3   mvc-14313  #\\#CIF1.1\\n###################################...   \n",
       "4   mvc-13470  #\\#CIF1.1\\n###################################...   \n",
       "\n",
       "                                               graph  \\\n",
       "0  {'index1': [0, 0, 0, 0, 0, 0, 0, 0, 0, 0, 0, 0...   \n",
       "1  {'index1': [0, 0, 0, 0, 0, 0, 0, 0, 0, 0, 0, 0...   \n",
       "2  {'index1': [0, 0, 0, 0, 0, 0, 0, 0, 0, 0, 0, 0...   \n",
       "3  {'index1': [0, 0, 0, 0, 0, 0, 0, 0, 0, 0, 0, 0...   \n",
       "4  {'index1': [0, 0, 0, 0, 0, 0, 1, 1, 1, 1, 1, 1...   \n",
       "\n",
       "   formation_energy_per_atom  band_gap   G   K  \n",
       "0                  -2.166565    2.2274 NaN NaN  \n",
       "1                  -1.336841    0.0000 NaN NaN  \n",
       "2                  -2.264626    0.0606 NaN NaN  \n",
       "3                  -2.301683    1.3002 NaN NaN  \n",
       "4                  -2.935452    0.0546 NaN NaN  "
      ]
     },
     "execution_count": 3,
     "metadata": {},
     "output_type": "execute_result"
    }
   ],
   "source": [
    "data_path = \"/root/c/d/lightning-hydra-template/data/mp/raw/mp.2018.6.1.json.zip\"\n",
    "import pandas as pd\n",
    "raw_data = pd.read_json(data_path)\n",
    "raw_data.head()"
   ]
  },
  {
   "cell_type": "code",
   "execution_count": 4,
   "metadata": {},
   "outputs": [],
   "source": [
    "from pymatgen.core import Structure"
   ]
  },
  {
   "cell_type": "code",
   "execution_count": 5,
   "metadata": {},
   "outputs": [],
   "source": [
    "ori_data = raw_data\n",
    "raw_data= ori_data[:100]"
   ]
  },
  {
   "cell_type": "code",
   "execution_count": 6,
   "metadata": {},
   "outputs": [
    {
     "name": "stderr",
     "output_type": "stream",
     "text": [
      "/root/miniconda3/envs/modnetori/lib/python3.9/site-packages/pymatgen/io/cif.py:1145: UserWarning: Issues encountered while parsing CIF: Some fractional coordinates rounded to ideal values to avoid issues with finite precision.\n",
      "  warnings.warn(\"Issues encountered while parsing CIF: \" + \"\\n\".join(self.warnings))\n"
     ]
    },
    {
     "name": "stdout",
     "output_type": "stream",
     "text": [
      "2024-01-21 17:18:53,338 - modnet - INFO - Loaded Matminer2023Featurizer featurizer.\n"
     ]
    }
   ],
   "source": [
    "# Creating MODData\n",
    "data = MODData(structure_ids=raw_data[\"material_id\"],\n",
    "               materials = raw_data[\"structure\"].apply(lambda x: Structure.from_str(x, fmt=\"cif\")),\n",
    "               targets = raw_data[[\"formation_energy_per_atom\",\"band_gap\"]],\n",
    "               target_names = [\"formation_energy_per_atom\",\"band_gap\"],\n",
    "               )\n"
   ]
  },
  {
   "cell_type": "code",
   "execution_count": 7,
   "metadata": {},
   "outputs": [
    {
     "data": {
      "text/html": [
       "<div>\n",
       "<style scoped>\n",
       "    .dataframe tbody tr th:only-of-type {\n",
       "        vertical-align: middle;\n",
       "    }\n",
       "\n",
       "    .dataframe tbody tr th {\n",
       "        vertical-align: top;\n",
       "    }\n",
       "\n",
       "    .dataframe thead th {\n",
       "        text-align: right;\n",
       "    }\n",
       "</style>\n",
       "<table border=\"1\" class=\"dataframe\">\n",
       "  <thead>\n",
       "    <tr style=\"text-align: right;\">\n",
       "      <th></th>\n",
       "      <th>structure</th>\n",
       "    </tr>\n",
       "    <tr>\n",
       "      <th>id</th>\n",
       "      <th></th>\n",
       "    </tr>\n",
       "  </thead>\n",
       "  <tbody>\n",
       "    <tr>\n",
       "      <th>mvc-8151</th>\n",
       "      <td>[[4.48090775 1.87106003 6.39860628] Mg, [2.467...</td>\n",
       "    </tr>\n",
       "    <tr>\n",
       "      <th>mvc-8154</th>\n",
       "      <td>[[1.45870738 4.2134368  2.43102817] Cr, [4.378...</td>\n",
       "    </tr>\n",
       "    <tr>\n",
       "      <th>mvc-1148</th>\n",
       "      <td>[[1.93301616 1.93300619 2.00835049] Ba, [ 1.93...</td>\n",
       "    </tr>\n",
       "    <tr>\n",
       "      <th>mvc-14313</th>\n",
       "      <td>[[ 2.55615694  3.75067424 -0.48044867] Mg, [1....</td>\n",
       "    </tr>\n",
       "    <tr>\n",
       "      <th>mvc-13470</th>\n",
       "      <td>[[3.30625571 2.30515409 5.95365325] Mg, [0. 0....</td>\n",
       "    </tr>\n",
       "    <tr>\n",
       "      <th>...</th>\n",
       "      <td>...</td>\n",
       "    </tr>\n",
       "    <tr>\n",
       "      <th>mvc-12777</th>\n",
       "      <td>[[3.08995239 1.78398472 0.29257938] Mg, [1.526...</td>\n",
       "    </tr>\n",
       "    <tr>\n",
       "      <th>mvc-16106</th>\n",
       "      <td>[[3.0547706  1.76367276 6.24822023] Ba, [-3.33...</td>\n",
       "    </tr>\n",
       "    <tr>\n",
       "      <th>mvc-16459</th>\n",
       "      <td>[[4.25108933 5.02411411 5.36253337] Ca, [1.448...</td>\n",
       "    </tr>\n",
       "    <tr>\n",
       "      <th>mvc-16458</th>\n",
       "      <td>[[ 4.9826088   0.33203123 11.10838721] Ca, [ 2...</td>\n",
       "    </tr>\n",
       "    <tr>\n",
       "      <th>mvc-16102</th>\n",
       "      <td>[[2.16893917 1.53367171 3.75671296] Al, [2.045...</td>\n",
       "    </tr>\n",
       "  </tbody>\n",
       "</table>\n",
       "<p>100 rows × 1 columns</p>\n",
       "</div>"
      ],
      "text/plain": [
       "                                                   structure\n",
       "id                                                          \n",
       "mvc-8151   [[4.48090775 1.87106003 6.39860628] Mg, [2.467...\n",
       "mvc-8154   [[1.45870738 4.2134368  2.43102817] Cr, [4.378...\n",
       "mvc-1148   [[1.93301616 1.93300619 2.00835049] Ba, [ 1.93...\n",
       "mvc-14313  [[ 2.55615694  3.75067424 -0.48044867] Mg, [1....\n",
       "mvc-13470  [[3.30625571 2.30515409 5.95365325] Mg, [0. 0....\n",
       "...                                                      ...\n",
       "mvc-12777  [[3.08995239 1.78398472 0.29257938] Mg, [1.526...\n",
       "mvc-16106  [[3.0547706  1.76367276 6.24822023] Ba, [-3.33...\n",
       "mvc-16459  [[4.25108933 5.02411411 5.36253337] Ca, [1.448...\n",
       "mvc-16458  [[ 4.9826088   0.33203123 11.10838721] Ca, [ 2...\n",
       "mvc-16102  [[2.16893917 1.53367171 3.75671296] Al, [2.045...\n",
       "\n",
       "[100 rows x 1 columns]"
      ]
     },
     "execution_count": 7,
     "metadata": {},
     "output_type": "execute_result"
    }
   ],
   "source": [
    "data.get_structure_df()"
   ]
  },
  {
   "cell_type": "code",
   "execution_count": 8,
   "metadata": {},
   "outputs": [
    {
     "data": {
      "text/plain": [
       "formation_energy_per_atom    100\n",
       "band_gap                     100\n",
       "dtype: int64"
      ]
     },
     "execution_count": 8,
     "metadata": {},
     "output_type": "execute_result"
    }
   ],
   "source": [
    "data.get_target_df().count()"
   ]
  },
  {
   "cell_type": "code",
   "execution_count": 9,
   "metadata": {},
   "outputs": [],
   "source": [
    "import warnings\n",
    "\n",
    "warnings.filterwarnings('ignore')"
   ]
  },
  {
   "cell_type": "code",
   "execution_count": 10,
   "metadata": {},
   "outputs": [
    {
     "name": "stdout",
     "output_type": "stream",
     "text": [
      "2024-01-21 17:18:53,602 - modnet - INFO - Computing features, this can take time...\n",
      "2024-01-21 17:18:53,617 - modnet - INFO - Applying composition featurizers...\n",
      "2024-01-21 17:18:53,652 - modnet - INFO - Applying featurizers (AtomicOrbitals(), AtomicPackingEfficiency(), BandCenter(), ElementFraction(), ElementProperty(data_source=<matminer.utils.data.MagpieData object at 0x7f122e5d6b80>,\n",
      "                features=['Number', 'MendeleevNumber', 'AtomicWeight',\n",
      "                          'MeltingT', 'Column', 'Row', 'CovalentRadius',\n",
      "                          'Electronegativity', 'NsValence', 'NpValence',\n",
      "                          'NdValence', 'NfValence', 'NValence', 'NsUnfilled',\n",
      "                          'NpUnfilled', 'NdUnfilled', 'NfUnfilled', 'NUnfilled',\n",
      "                          'GSvolume_pa', 'GSbandgap', 'GSmagmom',\n",
      "                          'SpaceGroupNumber'],\n",
      "                stats=['minimum', 'maximum', 'range', 'mean', 'avg_dev',\n",
      "                       'mode']), IonProperty(), Miedema(ss_types=['min'], struct_types=['inter', 'amor', 'ss']), Stoichiometry(), TMetalFraction(), ValenceOrbital(), YangSolidSolution()) to column 'composition'.\n"
     ]
    },
    {
     "name": "stderr",
     "output_type": "stream",
     "text": [
      "MultipleFeaturizer: 100%|██████████| 100/100 [00:02<00:00, 46.66it/s]\n"
     ]
    },
    {
     "name": "stdout",
     "output_type": "stream",
     "text": [
      "2024-01-21 17:20:22,500 - modnet - INFO - Applying oxidation state featurizers...\n"
     ]
    },
    {
     "name": "stderr",
     "output_type": "stream",
     "text": [
      "CompositionToOxidComposition: 100%|██████████| 100/100 [00:01<00:00, 67.38it/s]\n"
     ]
    },
    {
     "name": "stdout",
     "output_type": "stream",
     "text": [
      "2024-01-21 17:20:26,337 - modnet - INFO - Applying featurizers (ElectronegativityDiff(stats=['minimum', 'maximum', 'range', 'mean', 'std_dev']), OxidationStates(stats=['minimum', 'maximum', 'range', 'std_dev'])) to column 'composition_oxid'.\n"
     ]
    },
    {
     "name": "stderr",
     "output_type": "stream",
     "text": [
      "MultipleFeaturizer: 100%|██████████| 100/100 [00:01<00:00, 72.99it/s]\n"
     ]
    },
    {
     "name": "stdout",
     "output_type": "stream",
     "text": [
      "2024-01-21 17:20:28,016 - modnet - INFO - Applying structure featurizers...\n",
      "2024-01-21 17:20:28,033 - modnet - INFO - Applying featurizers (DensityFeatures(), GlobalSymmetryFeatures(), RadialDistributionFunction(), CoulombMatrix(), SineCoulombMatrix(), EwaldEnergy(), BondFractions(), StructuralHeterogeneity(), MaximumPackingEfficiency(), ChemicalOrdering(), XRDPowderPattern(pattern_length=128)) to column 'structure'.\n"
     ]
    },
    {
     "name": "stderr",
     "output_type": "stream",
     "text": [
      "MultipleFeaturizer: 100%|██████████| 100/100 [00:01<00:00, 67.40it/s]\n"
     ]
    },
    {
     "name": "stdout",
     "output_type": "stream",
     "text": [
      "2024-01-21 17:25:03,018 - modnet - INFO - Applying site featurizers...\n"
     ]
    },
    {
     "name": "stderr",
     "output_type": "stream",
     "text": [
      "SiteStatsFingerprint: 100%|██████████| 100/100 [00:02<00:00, 39.94it/s]\n",
      "SiteStatsFingerprint: 100%|██████████| 100/100 [00:02<00:00, 46.22it/s]\n",
      "SiteStatsFingerprint: 100%|██████████| 100/100 [00:01<00:00, 59.44it/s]\n",
      "SiteStatsFingerprint: 100%|██████████| 100/100 [00:00<00:00, 158.93it/s]\n",
      "SiteStatsFingerprint: 100%|██████████| 100/100 [00:01<00:00, 90.51it/s]\n",
      "SiteStatsFingerprint: 100%|██████████| 100/100 [00:00<00:00, 167.49it/s]\n",
      "SiteStatsFingerprint: 100%|██████████| 100/100 [00:00<00:00, 161.54it/s]\n",
      "SiteStatsFingerprint: 100%|██████████| 100/100 [00:00<00:00, 164.72it/s]\n",
      "SiteStatsFingerprint: 100%|██████████| 100/100 [00:00<00:00, 158.23it/s]\n",
      "SiteStatsFingerprint: 100%|██████████| 100/100 [00:00<00:00, 162.99it/s]\n",
      "SiteStatsFingerprint: 100%|██████████| 100/100 [00:00<00:00, 157.65it/s]\n",
      "SiteStatsFingerprint: 100%|██████████| 100/100 [00:01<00:00, 64.54it/s]\n"
     ]
    },
    {
     "name": "stdout",
     "output_type": "stream",
     "text": [
      "2024-01-21 17:34:28,868 - modnet - INFO - Data has successfully been featurized!\n"
     ]
    }
   ],
   "source": [
    "data.featurize()"
   ]
  },
  {
   "cell_type": "markdown",
   "metadata": {},
   "source": [
    "## save and load data before feature selection"
   ]
  },
  {
   "cell_type": "code",
   "execution_count": 16,
   "metadata": {},
   "outputs": [
    {
     "name": "stdout",
     "output_type": "stream",
     "text": [
      "2024-01-21 17:42:54,295 - modnet - INFO - Data successfully saved as out/mp.2018.6.1[:100]_not_selection.moddata!\n"
     ]
    }
   ],
   "source": [
    "data.save('out/mp.2018.6.1[:100]_not_selection.moddata')"
   ]
  },
  {
   "cell_type": "code",
   "execution_count": 17,
   "metadata": {},
   "outputs": [
    {
     "name": "stdout",
     "output_type": "stream",
     "text": [
      "2024-01-21 17:42:56,564 - modnet - INFO - Loaded <modnet.preprocessing.MODData object at 0x7f13bf525160> object, created with modnet version 0.4.1\n"
     ]
    }
   ],
   "source": [
    "data = MODData.load('out/mp.2018.6.1[:100]_not_selection.moddata')"
   ]
  },
  {
   "cell_type": "code",
   "execution_count": 11,
   "metadata": {},
   "outputs": [],
   "source": [
    "from sklearn.model_selection import train_test_split\n",
    "split = train_test_split(range(100), test_size=0.1, random_state=1234)\n",
    "train, val = data.split(split)"
   ]
  },
  {
   "cell_type": "code",
   "execution_count": 18,
   "metadata": {},
   "outputs": [
    {
     "name": "stdout",
     "output_type": "stream",
     "text": [
      "2024-01-21 17:43:06,936 - modnet - INFO - Loading cross NMI from 'Features_cross' file.\n",
      "2024-01-21 17:43:07,012 - modnet - WARNING - Feature mismatch between precomputed `Features_cross` and `df_featurized`. Missing columns: {'SineCoulombMatrix|sine coulomb matrix eig 51', 'XRDPowderPattern|xrd_64', 'RadialDistributionFunction|rdf [0.50000 - 0.60000]A', 'CoulombMatrix|coulomb matrix eig 74', 'RadialDistributionFunction|rdf [10.60000 - 10.70000]A', 'XRDPowderPattern|xrd_106', 'CoulombMatrix|coulomb matrix eig 42', 'BondFractions|Ca - Re bond frac.', 'XRDPowderPattern|xrd_76', 'BondFractions|W - W bond frac.', 'CoulombMatrix|coulomb matrix eig 84', 'BondFractions|Ca - Mo bond frac.', 'RadialDistributionFunction|rdf [12.40000 - 12.50000]A', 'CoulombMatrix|coulomb matrix eig 43', 'RadialDistributionFunction|rdf [19.60000 - 19.70000]A', 'BondFractions|Pr - Pr bond frac.', 'RadialDistributionFunction|rdf [10.00000 - 10.10000]A', 'BondFractions|Ca - Sn bond frac.', 'BondFractions|Ge - Ge bond frac.', 'RadialDistributionFunction|rdf [4.80000 - 4.90000]A', 'RadialDistributionFunction|rdf [9.60000 - 9.70000]A', 'BondFractions|Fe - Re bond frac.', 'CoulombMatrix|coulomb matrix eig 19', 'BondFractions|Al - Bi bond frac.', 'BondFractions|Sn - Zn bond frac.', 'BondFractions|Al - Sn bond frac.', 'CoulombMatrix|coulomb matrix eig 65', 'RadialDistributionFunction|rdf [6.20000 - 6.30000]A', 'RadialDistributionFunction|rdf [19.40000 - 19.50000]A', 'RadialDistributionFunction|rdf [14.00000 - 14.10000]A', 'RadialDistributionFunction|rdf [13.30000 - 13.40000]A', 'SineCoulombMatrix|sine coulomb matrix eig 35', 'CoulombMatrix|coulomb matrix eig 57', 'RadialDistributionFunction|rdf [15.60000 - 15.70000]A', 'RadialDistributionFunction|rdf [12.10000 - 12.20000]A', 'XRDPowderPattern|xrd_82', 'CoulombMatrix|coulomb matrix eig 82', 'RadialDistributionFunction|rdf [18.90000 - 19.00000]A', 'RadialDistributionFunction|rdf [7.50000 - 7.60000]A', 'SineCoulombMatrix|sine coulomb matrix eig 31', 'CoulombMatrix|coulomb matrix eig 71', 'XRDPowderPattern|xrd_42', 'CoulombMatrix|coulomb matrix eig 28', 'SineCoulombMatrix|sine coulomb matrix eig 64', 'SineCoulombMatrix|sine coulomb matrix eig 92', 'BondFractions|Sn - W bond frac.', 'RadialDistributionFunction|rdf [9.10000 - 9.20000]A', 'BondFractions|As - O bond frac.', 'SineCoulombMatrix|sine coulomb matrix eig 29', 'RadialDistributionFunction|rdf [14.30000 - 14.40000]A', 'BondFractions|F - Mo bond frac.', 'RadialDistributionFunction|rdf [7.40000 - 7.50000]A', 'RadialDistributionFunction|rdf [12.80000 - 12.90000]A', 'SineCoulombMatrix|sine coulomb matrix eig 54', 'RadialDistributionFunction|rdf [4.50000 - 4.60000]A', 'RadialDistributionFunction|rdf [2.10000 - 2.20000]A', 'RadialDistributionFunction|rdf [10.10000 - 10.20000]A', 'RadialDistributionFunction|rdf [5.00000 - 5.10000]A', 'SineCoulombMatrix|sine coulomb matrix eig 13', 'RadialDistributionFunction|rdf [0.10000 - 0.20000]A', 'BondFractions|Mo - O bond frac.', 'BondFractions|W - Y bond frac.', 'CoulombMatrix|coulomb matrix eig 76', 'RadialDistributionFunction|rdf [4.40000 - 4.50000]A', 'RadialDistributionFunction|rdf [4.10000 - 4.20000]A', 'BondFractions|Ba - Sn bond frac.', 'RadialDistributionFunction|rdf [5.70000 - 5.80000]A', 'RadialDistributionFunction|rdf [13.40000 - 13.50000]A', 'RadialDistributionFunction|rdf [3.10000 - 3.20000]A', 'RadialDistributionFunction|rdf [15.70000 - 15.80000]A', 'XRDPowderPattern|xrd_62', 'BondFractions|Fe - Mo bond frac.', 'SineCoulombMatrix|sine coulomb matrix eig 82', 'RadialDistributionFunction|rdf [9.50000 - 9.60000]A', 'SineCoulombMatrix|sine coulomb matrix eig 33', 'RadialDistributionFunction|rdf [6.60000 - 6.70000]A', 'Miedema|Miedema_deltaH_amor', 'XRDPowderPattern|xrd_32', 'SineCoulombMatrix|sine coulomb matrix eig 32', 'XRDPowderPattern|xrd_52', 'RadialDistributionFunction|rdf [7.60000 - 7.70000]A', 'CoulombMatrix|coulomb matrix eig 33', 'XRDPowderPattern|xrd_30', 'RadialDistributionFunction|rdf [13.50000 - 13.60000]A', 'SineCoulombMatrix|sine coulomb matrix eig 28', 'CoulombMatrix|coulomb matrix eig 37', 'RadialDistributionFunction|rdf [4.70000 - 4.80000]A', 'RadialDistributionFunction|rdf [17.40000 - 17.50000]A', 'BondFractions|Mo - Zn bond frac.', 'BondFractions|Bi - Zn bond frac.', 'XRDPowderPattern|xrd_18', 'RadialDistributionFunction|rdf [8.10000 - 8.20000]A', 'BondFractions|P - Sn bond frac.', 'RadialDistributionFunction|rdf [17.00000 - 17.10000]A', 'RadialDistributionFunction|rdf [7.70000 - 7.80000]A', 'RadialDistributionFunction|rdf [5.10000 - 5.20000]A', 'SineCoulombMatrix|sine coulomb matrix eig 69', 'RadialDistributionFunction|rdf [16.50000 - 16.60000]A', 'CoulombMatrix|coulomb matrix eig 15', 'RadialDistributionFunction|rdf [16.70000 - 16.80000]A', 'BondFractions|Al - Sb bond frac.', 'CoulombMatrix|coulomb matrix eig 63', 'RadialDistributionFunction|rdf [5.20000 - 5.30000]A', 'RadialDistributionFunction|rdf [17.70000 - 17.80000]A', 'CoulombMatrix|coulomb matrix eig 99', 'SineCoulombMatrix|sine coulomb matrix eig 59', 'CoulombMatrix|coulomb matrix eig 66', 'RadialDistributionFunction|rdf [1.40000 - 1.50000]A', 'CoulombMatrix|coulomb matrix eig 92', 'SineCoulombMatrix|sine coulomb matrix eig 53', 'BondFractions|As - W bond frac.', 'RadialDistributionFunction|rdf [8.00000 - 8.10000]A', 'CoulombMatrix|coulomb matrix eig 52', 'CoulombMatrix|coulomb matrix eig 34', 'BondFractions|W - Zn bond frac.', 'BondFractions|Sn - Sn bond frac.', 'RadialDistributionFunction|rdf [14.40000 - 14.50000]A', 'BondFractions|Ca - Ge bond frac.', 'CoulombMatrix|coulomb matrix eig 55', 'CoulombMatrix|coulomb matrix eig 51', 'RadialDistributionFunction|rdf [11.30000 - 11.40000]A', 'RadialDistributionFunction|rdf [1.00000 - 1.10000]A', 'BondFractions|Sb - Si bond frac.', 'BondFractions|As - Sn bond frac.', 'RadialDistributionFunction|rdf [9.00000 - 9.10000]A', 'BondFractions|Re - Re bond frac.', 'BondFractions|Bi - Bi bond frac.', 'RadialDistributionFunction|rdf [8.80000 - 8.90000]A', 'XRDPowderPattern|xrd_78', 'XRDPowderPattern|xrd_110', 'RadialDistributionFunction|rdf [9.70000 - 9.80000]A', 'CoulombMatrix|coulomb matrix eig 31', 'CoulombMatrix|coulomb matrix eig 85', 'SineCoulombMatrix|sine coulomb matrix eig 47', 'RadialDistributionFunction|rdf [13.90000 - 14.00000]A', 'RadialDistributionFunction|rdf [14.90000 - 15.00000]A', 'CoulombMatrix|coulomb matrix eig 103', 'CoulombMatrix|coulomb matrix eig 68', 'RadialDistributionFunction|rdf [3.90000 - 4.00000]A', 'SineCoulombMatrix|sine coulomb matrix eig 85', 'CoulombMatrix|coulomb matrix eig 27', 'SineCoulombMatrix|sine coulomb matrix eig 22', 'RadialDistributionFunction|rdf [8.70000 - 8.80000]A', 'RadialDistributionFunction|rdf [14.50000 - 14.60000]A', 'BondFractions|Ag - O bond frac.', 'CoulombMatrix|coulomb matrix eig 62', 'BondFractions|Ge - Zn bond frac.', 'BondFractions|Cu - W bond frac.', 'SineCoulombMatrix|sine coulomb matrix eig 80', 'BondFractions|Ba - Y bond frac.', 'BondFractions|Te - Te bond frac.', 'BondFractions|Al - W bond frac.', 'SineCoulombMatrix|sine coulomb matrix eig 58', 'SineCoulombMatrix|sine coulomb matrix eig 74', 'RadialDistributionFunction|rdf [15.90000 - 16.00000]A', 'XRDPowderPattern|xrd_6', 'RadialDistributionFunction|rdf [4.90000 - 5.00000]A', 'CoulombMatrix|coulomb matrix eig 98', 'RadialDistributionFunction|rdf [1.20000 - 1.30000]A', 'RadialDistributionFunction|rdf [2.20000 - 2.30000]A', 'CoulombMatrix|coulomb matrix eig 61', 'XRDPowderPattern|xrd_84', 'RadialDistributionFunction|rdf [14.20000 - 14.30000]A', 'XRDPowderPattern|xrd_66', 'CoulombMatrix|coulomb matrix eig 44', 'SineCoulombMatrix|sine coulomb matrix eig 23', 'BondFractions|As - Ca bond frac.', 'SineCoulombMatrix|sine coulomb matrix eig 63', 'SineCoulombMatrix|sine coulomb matrix eig 91', 'RadialDistributionFunction|rdf [6.10000 - 6.20000]A', 'XRDPowderPattern|xrd_2', 'RadialDistributionFunction|rdf [18.30000 - 18.40000]A', 'RadialDistributionFunction|rdf [15.40000 - 15.50000]A', 'RadialDistributionFunction|rdf [18.60000 - 18.70000]A', 'BondFractions|Nd - O bond frac.', 'XRDPowderPattern|xrd_38', 'XRDPowderPattern|xrd_14', 'XRDPowderPattern|xrd_24', 'BondFractions|Bi - V bond frac.', 'RadialDistributionFunction|rdf [7.10000 - 7.20000]A', 'RadialDistributionFunction|rdf [2.70000 - 2.80000]A', 'BondFractions|Bi - Fe bond frac.', 'CoulombMatrix|coulomb matrix eig 22', 'CoulombMatrix|coulomb matrix eig 69', 'XRDPowderPattern|xrd_46', 'SineCoulombMatrix|sine coulomb matrix eig 84', 'CoulombMatrix|coulomb matrix eig 13', 'RadialDistributionFunction|rdf [8.60000 - 8.70000]A', 'XRDPowderPattern|xrd_86', 'BondFractions|Bi - Ca bond frac.', 'BondFractions|As - Zn bond frac.', 'CoulombMatrix|coulomb matrix eig 67', 'SineCoulombMatrix|sine coulomb matrix eig 57', 'RadialDistributionFunction|rdf [4.30000 - 4.40000]A', 'RadialDistributionFunction|rdf [12.60000 - 12.70000]A', 'XRDPowderPattern|xrd_94', 'RadialDistributionFunction|rdf [11.90000 - 12.00000]A', 'CoulombMatrix|coulomb matrix eig 72', 'RadialDistributionFunction|rdf [14.70000 - 14.80000]A', 'BondFractions|Co - Mo bond frac.', 'CoulombMatrix|coulomb matrix eig 11', 'SineCoulombMatrix|sine coulomb matrix eig 40', 'XRDPowderPattern|xrd_112', 'XRDPowderPattern|xrd_12', 'SineCoulombMatrix|sine coulomb matrix eig 79', 'SineCoulombMatrix|sine coulomb matrix eig 70', 'CoulombMatrix|coulomb matrix eig 58', 'CoulombMatrix|coulomb matrix eig 36', 'RadialDistributionFunction|rdf [2.30000 - 2.40000]A', 'XRDPowderPattern|xrd_56', 'RadialDistributionFunction|rdf [10.40000 - 10.50000]A', 'CoulombMatrix|coulomb matrix eig 35', 'SineCoulombMatrix|sine coulomb matrix eig 30', 'BondFractions|Ag - Ag bond frac.', 'SineCoulombMatrix|sine coulomb matrix eig 12', 'SineCoulombMatrix|sine coulomb matrix eig 50', 'CoulombMatrix|coulomb matrix eig 80', 'RadialDistributionFunction|rdf [10.50000 - 10.60000]A', 'RadialDistributionFunction|rdf [5.60000 - 5.70000]A', 'RadialDistributionFunction|rdf [8.50000 - 8.60000]A', 'CoulombMatrix|coulomb matrix eig 50', 'CoulombMatrix|coulomb matrix eig 70', 'XRDPowderPattern|xrd_54', 'CoulombMatrix|coulomb matrix eig 59', 'RadialDistributionFunction|rdf [11.00000 - 11.10000]A', 'RadialDistributionFunction|rdf [15.00000 - 15.10000]A', 'XRDPowderPattern|xrd_4', 'BondFractions|Fe - Y bond frac.', 'SineCoulombMatrix|sine coulomb matrix eig 21', 'RadialDistributionFunction|rdf [0.00000 - 0.10000]A', 'RadialDistributionFunction|rdf [12.20000 - 12.30000]A', 'RadialDistributionFunction|rdf [2.50000 - 2.60000]A', 'RadialDistributionFunction|rdf [9.90000 - 10.00000]A', 'XRDPowderPattern|xrd_104', 'RadialDistributionFunction|rdf [0.90000 - 1.00000]A', 'RadialDistributionFunction|rdf [0.70000 - 0.80000]A', 'BondFractions|Ba - Cu bond frac.', 'RadialDistributionFunction|rdf [17.90000 - 18.00000]A', 'XRDPowderPattern|xrd_26', 'SineCoulombMatrix|sine coulomb matrix eig 77', 'BondFractions|Ba - Ti bond frac.', 'BondFractions|O - Y bond frac.', 'BondFractions|Te - W bond frac.', 'RadialDistributionFunction|rdf [1.30000 - 1.40000]A', 'RadialDistributionFunction|rdf [18.20000 - 18.30000]A', 'RadialDistributionFunction|rdf [2.60000 - 2.70000]A', 'SineCoulombMatrix|sine coulomb matrix eig 15', 'CoulombMatrix|coulomb matrix eig 81', 'RadialDistributionFunction|rdf [6.40000 - 6.50000]A', 'XRDPowderPattern|xrd_80', 'RadialDistributionFunction|rdf [19.50000 - 19.60000]A', 'RadialDistributionFunction|rdf [0.40000 - 0.50000]A', 'RadialDistributionFunction|rdf [0.30000 - 0.40000]A', 'RadialDistributionFunction|rdf [11.50000 - 11.60000]A', 'SineCoulombMatrix|sine coulomb matrix eig 96', 'BondFractions|Ba - Mg bond frac.', 'RadialDistributionFunction|rdf [5.80000 - 5.90000]A', 'CoulombMatrix|coulomb matrix eig 24', 'RadialDistributionFunction|rdf [4.20000 - 4.30000]A', 'XRDPowderPattern|xrd_36', 'CoulombMatrix|coulomb matrix eig 75', 'RadialDistributionFunction|rdf [4.00000 - 4.10000]A', 'BondFractions|Fe - Ge bond frac.', 'SineCoulombMatrix|sine coulomb matrix eig 78', 'RadialDistributionFunction|rdf [19.00000 - 19.10000]A', 'RadialDistributionFunction|rdf [0.60000 - 0.70000]A', 'RadialDistributionFunction|rdf [18.80000 - 18.90000]A', 'SineCoulombMatrix|sine coulomb matrix eig 38', 'RadialDistributionFunction|rdf [16.60000 - 16.70000]A', 'RadialDistributionFunction|rdf [8.30000 - 8.40000]A', 'BondFractions|Ge - Mg bond frac.', 'CoulombMatrix|coulomb matrix eig 56', 'SineCoulombMatrix|sine coulomb matrix eig 73', 'BondFractions|Ca - Sb bond frac.', 'SineCoulombMatrix|sine coulomb matrix eig 68', 'RadialDistributionFunction|rdf [10.30000 - 10.40000]A', 'RadialDistributionFunction|rdf [0.20000 - 0.30000]A', 'BondFractions|Mn - Nd bond frac.', 'XRDPowderPattern|xrd_74', 'SineCoulombMatrix|sine coulomb matrix eig 97', 'BondFractions|Ba - F bond frac.', 'SineCoulombMatrix|sine coulomb matrix eig 34', 'RadialDistributionFunction|rdf [14.60000 - 14.70000]A', 'XRDPowderPattern|xrd_16', 'SineCoulombMatrix|sine coulomb matrix eig 66', 'BondFractions|Ba - Ni bond frac.', 'BondFractions|Mg - Mo bond frac.', 'XRDPowderPattern|xrd_124', 'CoulombMatrix|coulomb matrix eig 53', 'BondFractions|Bi - F bond frac.', 'BondFractions|Ge - Sn bond frac.', 'XRDPowderPattern|xrd_88', 'SineCoulombMatrix|sine coulomb matrix eig 48', 'BondFractions|Bi - O bond frac.', 'BondFractions|Ti - Y bond frac.', 'RadialDistributionFunction|rdf [3.20000 - 3.30000]A', 'XRDPowderPattern|xrd_114', 'BondFractions|Se - Se bond frac.', 'SineCoulombMatrix|sine coulomb matrix eig 87', 'BondFractions|N - Sb bond frac.', 'BondFractions|Pr - W bond frac.', 'RadialDistributionFunction|rdf [1.50000 - 1.60000]A', 'XRDPowderPattern|xrd_58', 'RadialDistributionFunction|rdf [11.70000 - 11.80000]A', 'XRDPowderPattern|xrd_44', 'CoulombMatrix|coulomb matrix eig 96', 'SineCoulombMatrix|sine coulomb matrix eig 71', 'RadialDistributionFunction|rdf [1.60000 - 1.70000]A', 'RadialDistributionFunction|rdf [17.10000 - 17.20000]A', 'CoulombMatrix|coulomb matrix eig 102', 'SineCoulombMatrix|sine coulomb matrix eig 98', 'BondFractions|Ba - Mo bond frac.', 'BondFractions|As - Co bond frac.', 'BondFractions|Bi - Pr bond frac.', 'BondFractions|Mg - Pr bond frac.', 'XRDPowderPattern|xrd_90', 'RadialDistributionFunction|rdf [11.10000 - 11.20000]A', 'CoulombMatrix|coulomb matrix eig 95', 'SineCoulombMatrix|sine coulomb matrix eig 49', 'RadialDistributionFunction|rdf [17.60000 - 17.70000]A', 'BondFractions|P - W bond frac.', 'SineCoulombMatrix|sine coulomb matrix eig 72', 'SineCoulombMatrix|sine coulomb matrix eig 39', 'SineCoulombMatrix|sine coulomb matrix eig 65', 'RadialDistributionFunction|rdf [18.00000 - 18.10000]A', 'SineCoulombMatrix|sine coulomb matrix eig 41', 'SineCoulombMatrix|sine coulomb matrix eig 44', 'SineCoulombMatrix|sine coulomb matrix eig 95', 'CoulombMatrix|coulomb matrix eig 40', 'XRDPowderPattern|xrd_100', 'SineCoulombMatrix|sine coulomb matrix eig 24', 'SineCoulombMatrix|sine coulomb matrix eig 88', 'RadialDistributionFunction|rdf [6.70000 - 6.80000]A', 'BondFractions|Mg - Sb bond frac.', 'RadialDistributionFunction|rdf [6.00000 - 6.10000]A', 'XRDPowderPattern|xrd_50', 'SineCoulombMatrix|sine coulomb matrix eig 27', 'SineCoulombMatrix|sine coulomb matrix eig 56', 'BondFractions|Ca - W bond frac.', 'SineCoulombMatrix|sine coulomb matrix eig 81', 'BondFractions|Mg - Sn bond frac.', 'XRDPowderPattern|xrd_98', 'BondFractions|Nd - Ti bond frac.', 'RadialDistributionFunction|rdf [16.90000 - 17.00000]A', 'SineCoulombMatrix|sine coulomb matrix eig 36', 'SineCoulombMatrix|sine coulomb matrix eig 26', 'CoulombMatrix|coulomb matrix eig 12', 'CoulombMatrix|coulomb matrix eig 88', 'RadialDistributionFunction|rdf [5.50000 - 5.60000]A', 'BondFractions|O - Re bond frac.', 'SineCoulombMatrix|sine coulomb matrix eig 46', 'RadialDistributionFunction|rdf [13.10000 - 13.20000]A', 'RadialDistributionFunction|rdf [11.80000 - 11.90000]A', 'CoulombMatrix|coulomb matrix eig 16', 'RadialDistributionFunction|rdf [1.10000 - 1.20000]A', 'SineCoulombMatrix|sine coulomb matrix eig 14', 'CoulombMatrix|coulomb matrix eig 17', 'CoulombMatrix|coulomb matrix eig 83', 'BondFractions|O - Pr bond frac.', 'SineCoulombMatrix|sine coulomb matrix eig 75', 'RadialDistributionFunction|rdf [17.20000 - 17.30000]A', 'XRDPowderPattern|xrd_34', 'BondFractions|Bi - Si bond frac.', 'CoulombMatrix|coulomb matrix eig 48', 'BondFractions|V - W bond frac.', 'CoulombMatrix|coulomb matrix eig 18', 'SineCoulombMatrix|sine coulomb matrix eig 100', 'RadialDistributionFunction|rdf [19.20000 - 19.30000]A', 'RadialDistributionFunction|rdf [12.70000 - 12.80000]A', 'RadialDistributionFunction|rdf [2.40000 - 2.50000]A', 'RadialDistributionFunction|rdf [2.80000 - 2.90000]A', 'BondFractions|F - W bond frac.', 'CoulombMatrix|coulomb matrix eig 49', 'XRDPowderPattern|xrd_120', 'RadialDistributionFunction|rdf [7.90000 - 8.00000]A', 'RadialDistributionFunction|rdf [8.90000 - 9.00000]A', 'BondFractions|Cu - Y bond frac.', 'XRDPowderPattern|xrd_118', 'RadialDistributionFunction|rdf [19.80000 - 19.90000]A', 'CoulombMatrix|coulomb matrix eig 47', 'CoulombMatrix|coulomb matrix eig 100', 'Miedema|Miedema_deltaH_ss_min', 'RadialDistributionFunction|rdf [18.40000 - 18.50000]A', 'CoulombMatrix|coulomb matrix eig 14', 'RadialDistributionFunction|rdf [17.80000 - 17.90000]A', 'RadialDistributionFunction|rdf [7.00000 - 7.10000]A', 'RadialDistributionFunction|rdf [16.80000 - 16.90000]A', 'CoulombMatrix|coulomb matrix eig 90', 'RadialDistributionFunction|rdf [9.20000 - 9.30000]A', 'BondFractions|Al - Ba bond frac.', 'RadialDistributionFunction|rdf [3.50000 - 3.60000]A', 'BondFractions|Ba - Zn bond frac.', 'CoulombMatrix|coulomb matrix eig 91', 'SineCoulombMatrix|sine coulomb matrix eig 55', 'XRDPowderPattern|xrd_10', 'BondFractions|Ag - Mg bond frac.', 'RadialDistributionFunction|rdf [13.00000 - 13.10000]A', 'RadialDistributionFunction|rdf [3.00000 - 3.10000]A', 'RadialDistributionFunction|rdf [3.70000 - 3.80000]A', 'RadialDistributionFunction|rdf [19.70000 - 19.80000]A', 'BondFractions|Al - Se bond frac.', 'SineCoulombMatrix|sine coulomb matrix eig 37', 'RadialDistributionFunction|rdf [5.30000 - 5.40000]A', 'BondFractions|As - Ni bond frac.', 'CoulombMatrix|coulomb matrix eig 73', 'RadialDistributionFunction|rdf [13.60000 - 13.70000]A', 'SineCoulombMatrix|sine coulomb matrix eig 18', 'BondFractions|As - Cu bond frac.', 'RadialDistributionFunction|rdf [4.60000 - 4.70000]A', 'CoulombMatrix|coulomb matrix eig 89', 'BondFractions|O - W bond frac.', 'RadialDistributionFunction|rdf [8.20000 - 8.30000]A', 'BondFractions|Ba - Ba bond frac.', 'XRDPowderPattern|xrd_96', 'RadialDistributionFunction|rdf [18.50000 - 18.60000]A', 'SineCoulombMatrix|sine coulomb matrix eig 76', 'XRDPowderPattern|xrd_70', 'BondFractions|Si - Sn bond frac.', 'XRDPowderPattern|xrd_8', 'RadialDistributionFunction|rdf [19.30000 - 19.40000]A', 'XRDPowderPattern|xrd_20', 'CoulombMatrix|coulomb matrix eig 93', 'RadialDistributionFunction|rdf [17.50000 - 17.60000]A', 'RadialDistributionFunction|rdf [11.20000 - 11.30000]A', 'RadialDistributionFunction|rdf [18.10000 - 18.20000]A', 'SineCoulombMatrix|sine coulomb matrix eig 67', 'RadialDistributionFunction|rdf [3.80000 - 3.90000]A', 'RadialDistributionFunction|rdf [3.30000 - 3.40000]A', 'RadialDistributionFunction|rdf [15.20000 - 15.30000]A', 'BondFractions|Nd - Nd bond frac.', 'SineCoulombMatrix|sine coulomb matrix eig 45', 'BondFractions|Bi - Ge bond frac.', 'SineCoulombMatrix|sine coulomb matrix eig 101', 'BondFractions|Ca - Pr bond frac.', 'BondFractions|Ba - W bond frac.', 'RadialDistributionFunction|rdf [5.90000 - 6.00000]A', 'BondFractions|O - Te bond frac.', 'RadialDistributionFunction|rdf [16.00000 - 16.10000]A', 'XRDPowderPattern|xrd_48', 'XRDPowderPattern|xrd_108', 'RadialDistributionFunction|rdf [6.30000 - 6.40000]A', 'RadialDistributionFunction|rdf [2.00000 - 2.10000]A', 'XRDPowderPattern|xrd_122', 'CoulombMatrix|coulomb matrix eig 23', 'CoulombMatrix|coulomb matrix eig 101', 'BondFractions|Mo - Mo bond frac.', 'SineCoulombMatrix|sine coulomb matrix eig 11', 'XRDPowderPattern|xrd_22', 'SineCoulombMatrix|sine coulomb matrix eig 19', 'RadialDistributionFunction|rdf [13.20000 - 13.30000]A', 'BondFractions|Ag - Bi bond frac.', 'RadialDistributionFunction|rdf [15.50000 - 15.60000]A', 'CoulombMatrix|coulomb matrix eig 87', 'SineCoulombMatrix|sine coulomb matrix eig 83', 'RadialDistributionFunction|rdf [15.80000 - 15.90000]A', 'CoulombMatrix|coulomb matrix eig 60', 'RadialDistributionFunction|rdf [18.70000 - 18.80000]A', 'RadialDistributionFunction|rdf [12.00000 - 12.10000]A', 'CoulombMatrix|coulomb matrix eig 79', 'CoulombMatrix|coulomb matrix eig 77', 'SineCoulombMatrix|sine coulomb matrix eig 17', 'CoulombMatrix|coulomb matrix eig 29', 'RadialDistributionFunction|rdf [12.90000 - 13.00000]A', 'XRDPowderPattern|xrd_68', 'RadialDistributionFunction|rdf [5.40000 - 5.50000]A', 'BondFractions|Ge - Mo bond frac.', 'BondFractions|Cu - Se bond frac.', 'RadialDistributionFunction|rdf [16.20000 - 16.30000]A', 'RadialDistributionFunction|rdf [1.90000 - 2.00000]A', 'SineCoulombMatrix|sine coulomb matrix eig 43', 'BondFractions|Ba - O bond frac.', 'SineCoulombMatrix|sine coulomb matrix eig 103', 'BondFractions|As - As bond frac.', 'CoulombMatrix|coulomb matrix eig 32', 'CoulombMatrix|coulomb matrix eig 30', 'CoulombMatrix|coulomb matrix eig 54', 'RadialDistributionFunction|rdf [9.80000 - 9.90000]A', 'SineCoulombMatrix|sine coulomb matrix eig 20', 'RadialDistributionFunction|rdf [7.30000 - 7.40000]A', 'RadialDistributionFunction|rdf [8.40000 - 8.50000]A', 'BondFractions|Ni - W bond frac.', 'SineCoulombMatrix|sine coulomb matrix eig 94', 'BondFractions|Sb - Sb bond frac.', 'BondFractions|Ge - O bond frac.', 'RadialDistributionFunction|rdf [10.70000 - 10.80000]A', 'SineCoulombMatrix|sine coulomb matrix eig 16', 'BondFractions|Sn - Y bond frac.', 'BondFractions|N - Te bond frac.', 'BondFractions|Ge - Ti bond frac.', 'CoulombMatrix|coulomb matrix eig 38', 'RadialDistributionFunction|rdf [6.90000 - 7.00000]A', 'RadialDistributionFunction|rdf [11.60000 - 11.70000]A', 'RadialDistributionFunction|rdf [14.80000 - 14.90000]A', 'GlobalSymmetryFeatures|n_symmetry_ops', 'BondFractions|Mg - W bond frac.', 'XRDPowderPattern|xrd_72', 'RadialDistributionFunction|rdf [1.70000 - 1.80000]A', 'SineCoulombMatrix|sine coulomb matrix eig 61', 'RadialDistributionFunction|rdf [6.50000 - 6.60000]A', 'XRDPowderPattern|xrd_28', 'SineCoulombMatrix|sine coulomb matrix eig 93', 'CoulombMatrix|coulomb matrix eig 86', 'RadialDistributionFunction|rdf [7.20000 - 7.30000]A', 'RadialDistributionFunction|rdf [7.80000 - 7.90000]A', 'CoulombMatrix|coulomb matrix eig 45', 'SineCoulombMatrix|sine coulomb matrix eig 90', 'RadialDistributionFunction|rdf [15.10000 - 15.20000]A', 'BondFractions|O - Sn bond frac.', 'CoulombMatrix|coulomb matrix eig 21', 'RadialDistributionFunction|rdf [9.30000 - 9.40000]A', 'RadialDistributionFunction|rdf [0.80000 - 0.90000]A', 'XRDPowderPattern|xrd_126', 'BondFractions|O - Sb bond frac.', 'SineCoulombMatrix|sine coulomb matrix eig 86', 'CoulombMatrix|coulomb matrix eig 97', 'CoulombMatrix|coulomb matrix eig 25', 'BondFractions|Mo - Y bond frac.', 'RadialDistributionFunction|rdf [19.90000 - 20.00000]A', 'XRDPowderPattern|xrd_102', 'CoulombMatrix|coulomb matrix eig 94', 'BondFractions|Sb - V bond frac.', 'BondFractions|Bi - Mg bond frac.', 'RadialDistributionFunction|rdf [19.10000 - 19.20000]A', 'RadialDistributionFunction|rdf [17.30000 - 17.40000]A', 'RadialDistributionFunction|rdf [3.60000 - 3.70000]A', 'RadialDistributionFunction|rdf [9.40000 - 9.50000]A', 'SineCoulombMatrix|sine coulomb matrix eig 89', 'RadialDistributionFunction|rdf [10.80000 - 10.90000]A', 'RadialDistributionFunction|rdf [14.10000 - 14.20000]A', 'CoulombMatrix|coulomb matrix eig 64', 'RadialDistributionFunction|rdf [16.10000 - 16.20000]A', 'CoulombMatrix|coulomb matrix eig 20', 'RadialDistributionFunction|rdf [10.20000 - 10.30000]A', 'RadialDistributionFunction|rdf [16.40000 - 16.50000]A', 'SineCoulombMatrix|sine coulomb matrix eig 62', 'BondFractions|Y - Y bond frac.', 'CoulombMatrix|coulomb matrix eig 78', 'CoulombMatrix|coulomb matrix eig 39', 'RadialDistributionFunction|rdf [13.80000 - 13.90000]A', 'RadialDistributionFunction|rdf [3.40000 - 3.50000]A', 'RadialDistributionFunction|rdf [2.90000 - 3.00000]A', 'SineCoulombMatrix|sine coulomb matrix eig 52', 'XRDPowderPattern|xrd_40', 'RadialDistributionFunction|rdf [1.80000 - 1.90000]A', 'BondFractions|Sb - W bond frac.', 'SineCoulombMatrix|sine coulomb matrix eig 25', 'XRDPowderPattern|xrd_60', 'SineCoulombMatrix|sine coulomb matrix eig 102', 'BondFractions|Ca - Nd bond frac.', 'RadialDistributionFunction|rdf [12.50000 - 12.60000]A', 'CoulombMatrix|coulomb matrix eig 41', 'RadialDistributionFunction|rdf [6.80000 - 6.90000]A', 'SineCoulombMatrix|sine coulomb matrix eig 99', 'RadialDistributionFunction|rdf [12.30000 - 12.40000]A', 'RadialDistributionFunction|rdf [11.40000 - 11.50000]A', 'BondFractions|Ca - Y bond frac.', 'SineCoulombMatrix|sine coulomb matrix eig 60', 'CoulombMatrix|coulomb matrix eig 46', 'BondFractions|Ba - Fe bond frac.', 'CoulombMatrix|coulomb matrix eig 26', 'RadialDistributionFunction|rdf [16.30000 - 16.40000]A', 'XRDPowderPattern|xrd_116', 'RadialDistributionFunction|rdf [10.90000 - 11.00000]A', 'XRDPowderPattern|xrd_92', 'SineCoulombMatrix|sine coulomb matrix eig 42', 'RadialDistributionFunction|rdf [13.70000 - 13.80000]A', 'RadialDistributionFunction|rdf [15.30000 - 15.40000]A'}\n",
      "2024-01-21 17:43:07,015 - modnet - INFO - Starting target 1/2: band_gap ...\n",
      "2024-01-21 17:43:07,016 - modnet - INFO - Computing mutual information between features and target...\n",
      "2024-01-21 17:43:17,196 - modnet - INFO - Computing optimal features...\n",
      "2024-01-21 17:44:05,262 - modnet - INFO - Done with target 1/2: band_gap.\n",
      "2024-01-21 17:44:05,319 - modnet - INFO - Starting target 2/2: formation_energy_per_atom ...\n",
      "2024-01-21 17:44:05,321 - modnet - INFO - Computing mutual information between features and target...\n",
      "2024-01-21 17:44:15,053 - modnet - INFO - Computing optimal features...\n",
      "2024-01-21 17:44:54,671 - modnet - INFO - Done with target 2/2: formation_energy_per_atom.\n",
      "2024-01-21 17:44:54,671 - modnet - INFO - Merging all features...\n",
      "2024-01-21 17:44:54,672 - modnet - INFO - Done.\n"
     ]
    }
   ],
   "source": [
    "train.feature_selection(n=50,use_precomputed_cross_nmi=True)"
   ]
  },
  {
   "cell_type": "markdown",
   "metadata": {},
   "source": [
    "## define model "
   ]
  },
  {
   "cell_type": "code",
   "execution_count": 19,
   "metadata": {},
   "outputs": [
    {
     "name": "stderr",
     "output_type": "stream",
     "text": [
      "2024-01-21 17:44:54.813985: I external/local_xla/xla/stream_executor/cuda/cuda_executor.cc:887] could not open file to read NUMA node: /sys/bus/pci/devices/0000:01:00.0/numa_node\n",
      "Your kernel may have been built without NUMA support.\n",
      "2024-01-21 17:44:55.033580: W tensorflow/core/common_runtime/gpu/gpu_device.cc:2256] Cannot dlopen some GPU libraries. Please make sure the missing libraries mentioned above are installed properly if you would like to use GPU. Follow the guide at https://www.tensorflow.org/install/gpu for how to download and setup the required libraries for your platform.\n",
      "Skipping registering GPU devices...\n"
     ]
    }
   ],
   "source": [
    "model = MODNetModel([[[\"formation_energy_per_atom\",\"band_gap\"]]],\n",
    "                    weights={\"formation_energy_per_atom\": 0.7, \"band_gap\": 0.3},\n",
    "                    num_neurons = [[256], [128], [16], [16]],\n",
    "                    n_feat = 50,\n",
    "                    act =  \"elu\"\n",
    "                   )"
   ]
  },
  {
   "cell_type": "code",
   "execution_count": 20,
   "metadata": {},
   "outputs": [
    {
     "name": "stdout",
     "output_type": "stream",
     "text": [
      "epoch 0: loss: 1.435, val_loss:1.300 val_mae:1.858\n",
      "epoch 1: loss: 1.382, val_loss:1.295 val_mae:1.849\n",
      "epoch 2: loss: 1.343, val_loss:1.289 val_mae:1.841\n",
      "epoch 3: loss: 1.316, val_loss:1.286 val_mae:1.837\n",
      "epoch 4: loss: 1.305, val_loss:1.283 val_mae:1.833\n",
      "epoch 5: loss: 1.292, val_loss:1.282 val_mae:1.831\n",
      "epoch 6: loss: 1.277, val_loss:1.281 val_mae:1.830\n",
      "epoch 7: loss: 1.268, val_loss:1.280 val_mae:1.829\n",
      "epoch 8: loss: 1.269, val_loss:1.279 val_mae:1.827\n",
      "epoch 9: loss: 1.262, val_loss:1.278 val_mae:1.825\n",
      "epoch 10: loss: 1.265, val_loss:1.278 val_mae:1.825\n",
      "epoch 11: loss: 1.259, val_loss:1.278 val_mae:1.826\n",
      "epoch 12: loss: 1.256, val_loss:1.279 val_mae:1.827\n",
      "epoch 13: loss: 1.259, val_loss:1.280 val_mae:1.828\n",
      "epoch 14: loss: 1.259, val_loss:1.281 val_mae:1.830\n",
      "epoch 15: loss: 1.256, val_loss:1.284 val_mae:1.834\n",
      "epoch 16: loss: 1.263, val_loss:1.286 val_mae:1.837\n",
      "epoch 17: loss: 1.257, val_loss:1.286 val_mae:1.838\n",
      "epoch 18: loss: 1.250, val_loss:1.284 val_mae:1.835\n",
      "epoch 19: loss: 1.257, val_loss:1.282 val_mae:1.831\n",
      "epoch 20: loss: 1.246, val_loss:1.277 val_mae:1.825\n",
      "epoch 21: loss: 1.246, val_loss:1.274 val_mae:1.820\n",
      "epoch 22: loss: 1.245, val_loss:1.271 val_mae:1.816\n",
      "epoch 23: loss: 1.245, val_loss:1.268 val_mae:1.812\n",
      "epoch 24: loss: 1.243, val_loss:1.267 val_mae:1.810\n",
      "epoch 25: loss: 1.246, val_loss:1.266 val_mae:1.809\n",
      "epoch 26: loss: 1.239, val_loss:1.264 val_mae:1.806\n",
      "epoch 27: loss: 1.238, val_loss:1.263 val_mae:1.805\n",
      "epoch 28: loss: 1.235, val_loss:1.263 val_mae:1.804\n",
      "epoch 29: loss: 1.237, val_loss:1.263 val_mae:1.805\n",
      "epoch 30: loss: 1.234, val_loss:1.263 val_mae:1.804\n",
      "epoch 31: loss: 1.244, val_loss:1.258 val_mae:1.797\n",
      "epoch 32: loss: 1.234, val_loss:1.252 val_mae:1.788\n",
      "epoch 33: loss: 1.233, val_loss:1.246 val_mae:1.780\n",
      "epoch 34: loss: 1.237, val_loss:1.243 val_mae:1.776\n",
      "epoch 35: loss: 1.230, val_loss:1.239 val_mae:1.770\n",
      "epoch 36: loss: 1.236, val_loss:1.235 val_mae:1.765\n",
      "epoch 37: loss: 1.227, val_loss:1.231 val_mae:1.759\n",
      "epoch 38: loss: 1.227, val_loss:1.229 val_mae:1.755\n",
      "epoch 39: loss: 1.225, val_loss:1.225 val_mae:1.751\n",
      "epoch 40: loss: 1.225, val_loss:1.223 val_mae:1.747\n",
      "epoch 41: loss: 1.225, val_loss:1.221 val_mae:1.744\n",
      "epoch 42: loss: 1.224, val_loss:1.220 val_mae:1.742\n",
      "epoch 43: loss: 1.221, val_loss:1.216 val_mae:1.737\n",
      "epoch 44: loss: 1.221, val_loss:1.213 val_mae:1.733\n",
      "epoch 45: loss: 1.220, val_loss:1.210 val_mae:1.728\n",
      "epoch 46: loss: 1.223, val_loss:1.207 val_mae:1.725\n",
      "epoch 47: loss: 1.218, val_loss:1.209 val_mae:1.727\n",
      "epoch 48: loss: 1.217, val_loss:1.213 val_mae:1.732\n",
      "epoch 49: loss: 1.218, val_loss:1.215 val_mae:1.736\n",
      "epoch 50: loss: 1.214, val_loss:1.216 val_mae:1.737\n",
      "epoch 51: loss: 1.213, val_loss:1.217 val_mae:1.739\n",
      "epoch 52: loss: 1.212, val_loss:1.217 val_mae:1.738\n",
      "epoch 53: loss: 1.211, val_loss:1.217 val_mae:1.739\n",
      "epoch 54: loss: 1.210, val_loss:1.217 val_mae:1.739\n",
      "epoch 55: loss: 1.212, val_loss:1.219 val_mae:1.741\n",
      "epoch 56: loss: 1.209, val_loss:1.222 val_mae:1.746\n",
      "epoch 57: loss: 1.207, val_loss:1.226 val_mae:1.751\n",
      "epoch 58: loss: 1.214, val_loss:1.229 val_mae:1.756\n",
      "epoch 59: loss: 1.205, val_loss:1.233 val_mae:1.762\n",
      "epoch 60: loss: 1.205, val_loss:1.237 val_mae:1.767\n",
      "epoch 61: loss: 1.209, val_loss:1.238 val_mae:1.768\n",
      "epoch 62: loss: 1.202, val_loss:1.238 val_mae:1.769\n",
      "epoch 63: loss: 1.203, val_loss:1.238 val_mae:1.769\n",
      "epoch 64: loss: 1.200, val_loss:1.239 val_mae:1.770\n",
      "epoch 65: loss: 1.199, val_loss:1.241 val_mae:1.772\n",
      "epoch 66: loss: 1.198, val_loss:1.242 val_mae:1.775\n",
      "epoch 67: loss: 1.197, val_loss:1.244 val_mae:1.777\n",
      "epoch 68: loss: 1.197, val_loss:1.244 val_mae:1.777\n",
      "epoch 69: loss: 1.200, val_loss:1.245 val_mae:1.778\n",
      "epoch 70: loss: 1.193, val_loss:1.247 val_mae:1.781\n",
      "epoch 71: loss: 1.199, val_loss:1.246 val_mae:1.780\n",
      "epoch 72: loss: 1.191, val_loss:1.246 val_mae:1.780\n",
      "epoch 73: loss: 1.190, val_loss:1.244 val_mae:1.777\n",
      "epoch 74: loss: 1.189, val_loss:1.243 val_mae:1.776\n",
      "epoch 75: loss: 1.190, val_loss:1.240 val_mae:1.771\n",
      "epoch 76: loss: 1.187, val_loss:1.238 val_mae:1.768\n",
      "epoch 77: loss: 1.190, val_loss:1.235 val_mae:1.765\n",
      "epoch 78: loss: 1.188, val_loss:1.237 val_mae:1.767\n",
      "epoch 79: loss: 1.185, val_loss:1.244 val_mae:1.776\n",
      "epoch 80: loss: 1.184, val_loss:1.248 val_mae:1.783\n",
      "epoch 81: loss: 1.184, val_loss:1.252 val_mae:1.789\n",
      "epoch 82: loss: 1.183, val_loss:1.254 val_mae:1.791\n",
      "epoch 83: loss: 1.183, val_loss:1.256 val_mae:1.794\n",
      "epoch 84: loss: 1.184, val_loss:1.256 val_mae:1.795\n",
      "epoch 85: loss: 1.178, val_loss:1.256 val_mae:1.794\n",
      "epoch 86: loss: 1.176, val_loss:1.256 val_mae:1.794\n",
      "epoch 87: loss: 1.178, val_loss:1.253 val_mae:1.789\n",
      "epoch 88: loss: 1.174, val_loss:1.249 val_mae:1.784\n",
      "epoch 89: loss: 1.173, val_loss:1.246 val_mae:1.780\n",
      "epoch 90: loss: 1.181, val_loss:1.238 val_mae:1.769\n",
      "epoch 91: loss: 1.179, val_loss:1.231 val_mae:1.759\n",
      "epoch 92: loss: 1.170, val_loss:1.229 val_mae:1.756\n",
      "epoch 93: loss: 1.169, val_loss:1.227 val_mae:1.753\n",
      "epoch 94: loss: 1.169, val_loss:1.226 val_mae:1.752\n",
      "epoch 95: loss: 1.167, val_loss:1.226 val_mae:1.752\n",
      "epoch 96: loss: 1.171, val_loss:1.226 val_mae:1.751\n",
      "epoch 97: loss: 1.164, val_loss:1.228 val_mae:1.754\n",
      "epoch 98: loss: 1.163, val_loss:1.230 val_mae:1.757\n",
      "epoch 99: loss: 1.162, val_loss:1.232 val_mae:1.759\n"
     ]
    }
   ],
   "source": [
    "model.fit(train,\n",
    "          val_fraction = 0.1,\n",
    "          lr = 0.0002,\n",
    "          batch_size = 64,\n",
    "          loss = 'mae',\n",
    "          epochs = 100,\n",
    "          verbose = 1,\n",
    "         )"
   ]
  },
  {
   "cell_type": "markdown",
   "metadata": {},
   "source": [
    "## val data prediction"
   ]
  },
  {
   "cell_type": "code",
   "execution_count": 21,
   "metadata": {},
   "outputs": [
    {
     "name": "stdout",
     "output_type": "stream",
     "text": [
      "1/1 [==============================] - 0s 220ms/step\n"
     ]
    },
    {
     "data": {
      "text/html": [
       "<div>\n",
       "<style scoped>\n",
       "    .dataframe tbody tr th:only-of-type {\n",
       "        vertical-align: middle;\n",
       "    }\n",
       "\n",
       "    .dataframe tbody tr th {\n",
       "        vertical-align: top;\n",
       "    }\n",
       "\n",
       "    .dataframe thead th {\n",
       "        text-align: right;\n",
       "    }\n",
       "</style>\n",
       "<table border=\"1\" class=\"dataframe\">\n",
       "  <thead>\n",
       "    <tr style=\"text-align: right;\">\n",
       "      <th></th>\n",
       "      <th>formation_energy_per_atom</th>\n",
       "      <th>band_gap</th>\n",
       "    </tr>\n",
       "  </thead>\n",
       "  <tbody>\n",
       "    <tr>\n",
       "      <th>mvc-14314</th>\n",
       "      <td>-0.467890</td>\n",
       "      <td>-0.679508</td>\n",
       "    </tr>\n",
       "    <tr>\n",
       "      <th>mvc-6226</th>\n",
       "      <td>-0.504165</td>\n",
       "      <td>-0.293106</td>\n",
       "    </tr>\n",
       "    <tr>\n",
       "      <th>mvc-12765</th>\n",
       "      <td>-1.146019</td>\n",
       "      <td>-0.412086</td>\n",
       "    </tr>\n",
       "    <tr>\n",
       "      <th>mvc-4886</th>\n",
       "      <td>-0.329115</td>\n",
       "      <td>-0.686138</td>\n",
       "    </tr>\n",
       "    <tr>\n",
       "      <th>mvc-16458</th>\n",
       "      <td>-0.257114</td>\n",
       "      <td>-0.121710</td>\n",
       "    </tr>\n",
       "  </tbody>\n",
       "</table>\n",
       "</div>"
      ],
      "text/plain": [
       "           formation_energy_per_atom  band_gap\n",
       "mvc-14314                  -0.467890 -0.679508\n",
       "mvc-6226                   -0.504165 -0.293106\n",
       "mvc-12765                  -1.146019 -0.412086\n",
       "mvc-4886                   -0.329115 -0.686138\n",
       "mvc-16458                  -0.257114 -0.121710"
      ]
     },
     "execution_count": 21,
     "metadata": {},
     "output_type": "execute_result"
    }
   ],
   "source": [
    "pred = model.predict(val)\n",
    "pred.head()"
   ]
  },
  {
   "cell_type": "code",
   "execution_count": 22,
   "metadata": {},
   "outputs": [
    {
     "name": "stdout",
     "output_type": "stream",
     "text": [
      "mae: 1.5296545609377399\n"
     ]
    }
   ],
   "source": [
    "import numpy as np\n",
    "mae_test = np.absolute(pred.values-val.df_targets.values).mean()\n",
    "print(f'mae: {mae_test}')\n",
    "# "
   ]
  },
  {
   "cell_type": "code",
   "execution_count": null,
   "metadata": {},
   "outputs": [
    {
     "name": "stdout",
     "output_type": "stream",
     "text": [
      "mae: 1.3677090584777367\n"
     ]
    }
   ],
   "source": [
    "import numpy as np\n",
    "mae_test = np.absolute(pred.values-val.df_targets.values).mean()\n",
    "print(f'mae: {mae_test}')"
   ]
  },
  {
   "cell_type": "markdown",
   "metadata": {},
   "source": [
    "## test data prediction"
   ]
  },
  {
   "cell_type": "code",
   "execution_count": 23,
   "metadata": {},
   "outputs": [
    {
     "ename": "KeyError",
     "evalue": "0",
     "output_type": "error",
     "traceback": [
      "\u001b[0;31m---------------------------------------------------------------------------\u001b[0m",
      "\u001b[0;31mValueError\u001b[0m                                Traceback (most recent call last)",
      "File \u001b[0;32m~/miniconda3/envs/modnetori/lib/python3.9/site-packages/pandas/core/indexes/range.py:391\u001b[0m, in \u001b[0;36mRangeIndex.get_loc\u001b[0;34m(self, key, method, tolerance)\u001b[0m\n\u001b[1;32m    390\u001b[0m \u001b[38;5;28;01mtry\u001b[39;00m:\n\u001b[0;32m--> 391\u001b[0m     \u001b[38;5;28;01mreturn\u001b[39;00m \u001b[38;5;28;43mself\u001b[39;49m\u001b[38;5;241;43m.\u001b[39;49m\u001b[43m_range\u001b[49m\u001b[38;5;241;43m.\u001b[39;49m\u001b[43mindex\u001b[49m\u001b[43m(\u001b[49m\u001b[43mnew_key\u001b[49m\u001b[43m)\u001b[49m\n\u001b[1;32m    392\u001b[0m \u001b[38;5;28;01mexcept\u001b[39;00m \u001b[38;5;167;01mValueError\u001b[39;00m \u001b[38;5;28;01mas\u001b[39;00m err:\n",
      "\u001b[0;31mValueError\u001b[0m: 0 is not in range",
      "\nThe above exception was the direct cause of the following exception:\n",
      "\u001b[0;31mKeyError\u001b[0m                                  Traceback (most recent call last)",
      "Cell \u001b[0;32mIn[23], line 1\u001b[0m\n\u001b[0;32m----> 1\u001b[0m data_to_predict \u001b[38;5;241m=\u001b[39m \u001b[43mMODData\u001b[49m\u001b[43m(\u001b[49m\u001b[43mstructure_ids\u001b[49m\u001b[38;5;241;43m=\u001b[39;49m\u001b[43mori_data\u001b[49m\u001b[43m[\u001b[49m\u001b[38;5;124;43m\"\u001b[39;49m\u001b[38;5;124;43mmaterial_id\u001b[39;49m\u001b[38;5;124;43m\"\u001b[39;49m\u001b[43m]\u001b[49m\u001b[43m,\u001b[49m\n\u001b[1;32m      2\u001b[0m \u001b[43m               \u001b[49m\u001b[43mmaterials\u001b[49m\u001b[43m \u001b[49m\u001b[38;5;241;43m=\u001b[39;49m\u001b[43m \u001b[49m\u001b[43mori_data\u001b[49m\u001b[43m[\u001b[49m\u001b[38;5;124;43m\"\u001b[39;49m\u001b[38;5;124;43mstructure\u001b[39;49m\u001b[38;5;124;43m\"\u001b[39;49m\u001b[43m]\u001b[49m\u001b[38;5;241;43m.\u001b[39;49m\u001b[43mapply\u001b[49m\u001b[43m(\u001b[49m\u001b[38;5;28;43;01mlambda\u001b[39;49;00m\u001b[43m \u001b[49m\u001b[43mx\u001b[49m\u001b[43m:\u001b[49m\u001b[43m \u001b[49m\u001b[43mStructure\u001b[49m\u001b[38;5;241;43m.\u001b[39;49m\u001b[43mfrom_str\u001b[49m\u001b[43m(\u001b[49m\u001b[43mx\u001b[49m\u001b[43m,\u001b[49m\u001b[43m \u001b[49m\u001b[43mfmt\u001b[49m\u001b[38;5;241;43m=\u001b[39;49m\u001b[38;5;124;43m\"\u001b[39;49m\u001b[38;5;124;43mcif\u001b[39;49m\u001b[38;5;124;43m\"\u001b[39;49m\u001b[43m)\u001b[49m\u001b[43m)\u001b[49m\u001b[43m[\u001b[49m\u001b[38;5;241;43m100\u001b[39;49m\u001b[43m:\u001b[49m\u001b[38;5;241;43m150\u001b[39;49m\u001b[43m]\u001b[49m\u001b[43m,\u001b[49m\n\u001b[1;32m      3\u001b[0m \u001b[43m               \u001b[49m\u001b[43mtargets\u001b[49m\u001b[43m \u001b[49m\u001b[38;5;241;43m=\u001b[39;49m\u001b[43m \u001b[49m\u001b[43mori_data\u001b[49m\u001b[43m[\u001b[49m\u001b[43m[\u001b[49m\u001b[38;5;124;43m\"\u001b[39;49m\u001b[38;5;124;43mformation_energy_per_atom\u001b[39;49m\u001b[38;5;124;43m\"\u001b[39;49m\u001b[43m,\u001b[49m\u001b[38;5;124;43m\"\u001b[39;49m\u001b[38;5;124;43mband_gap\u001b[39;49m\u001b[38;5;124;43m\"\u001b[39;49m\u001b[43m]\u001b[49m\u001b[43m]\u001b[49m\u001b[43m[\u001b[49m\u001b[38;5;241;43m100\u001b[39;49m\u001b[43m:\u001b[49m\u001b[38;5;241;43m150\u001b[39;49m\u001b[43m]\u001b[49m\u001b[43m,\u001b[49m\n\u001b[1;32m      4\u001b[0m \u001b[43m               \u001b[49m\u001b[43mtarget_names\u001b[49m\u001b[43m \u001b[49m\u001b[38;5;241;43m=\u001b[39;49m\u001b[43m \u001b[49m\u001b[43m[\u001b[49m\u001b[38;5;124;43m\"\u001b[39;49m\u001b[38;5;124;43mformation_energy_per_atom\u001b[39;49m\u001b[38;5;124;43m\"\u001b[39;49m\u001b[43m,\u001b[49m\u001b[38;5;124;43m\"\u001b[39;49m\u001b[38;5;124;43mband_gap\u001b[39;49m\u001b[38;5;124;43m\"\u001b[39;49m\u001b[43m]\u001b[49m\u001b[43m[\u001b[49m\u001b[38;5;241;43m100\u001b[39;49m\u001b[43m:\u001b[49m\u001b[38;5;241;43m150\u001b[39;49m\u001b[43m]\u001b[49m\u001b[43m,\u001b[49m\n\u001b[1;32m      5\u001b[0m \u001b[43m               \u001b[49m\u001b[43m)\u001b[49m\n",
      "File \u001b[0;32m~/miniconda3/envs/modnetori/lib/python3.9/site-packages/modnet/preprocessing.py:643\u001b[0m, in \u001b[0;36mMODData.__init__\u001b[0;34m(self, materials, targets, target_names, structure_ids, num_classes, df_featurized, featurizer, structures)\u001b[0m\n\u001b[1;32m    638\u001b[0m     \u001b[38;5;28;01mif\u001b[39;00m np\u001b[38;5;241m.\u001b[39mshape(targets)[\u001b[38;5;241m0\u001b[39m] \u001b[38;5;241m!=\u001b[39m \u001b[38;5;28mlen\u001b[39m(materials):\n\u001b[1;32m    639\u001b[0m         \u001b[38;5;28;01mraise\u001b[39;00m \u001b[38;5;167;01mValueError\u001b[39;00m(\n\u001b[1;32m    640\u001b[0m             \u001b[38;5;124mf\u001b[39m\u001b[38;5;124m\"\u001b[39m\u001b[38;5;124mTargets must have same length as structures: \u001b[39m\u001b[38;5;132;01m{\u001b[39;00mnp\u001b[38;5;241m.\u001b[39mshape(targets)\u001b[38;5;132;01m}\u001b[39;00m\u001b[38;5;124m vs \u001b[39m\u001b[38;5;132;01m{\u001b[39;00m\u001b[38;5;28mlen\u001b[39m(materials)\u001b[38;5;132;01m}\u001b[39;00m\u001b[38;5;124m\"\u001b[39m\n\u001b[1;32m    641\u001b[0m         )\n\u001b[0;32m--> 643\u001b[0m \u001b[38;5;28;01mif\u001b[39;00m materials \u001b[38;5;129;01mis\u001b[39;00m \u001b[38;5;129;01mnot\u001b[39;00m \u001b[38;5;28;01mNone\u001b[39;00m \u001b[38;5;129;01mand\u001b[39;00m \u001b[38;5;28misinstance\u001b[39m(\u001b[43mmaterials\u001b[49m\u001b[43m[\u001b[49m\u001b[38;5;241;43m0\u001b[39;49m\u001b[43m]\u001b[49m, Composition):\n\u001b[1;32m    644\u001b[0m     materials \u001b[38;5;241m=\u001b[39m [CompositionContainer(s) \u001b[38;5;28;01mfor\u001b[39;00m s \u001b[38;5;129;01min\u001b[39;00m materials]\n\u001b[1;32m    645\u001b[0m     \u001b[38;5;28mself\u001b[39m\u001b[38;5;241m.\u001b[39m_composition_only \u001b[38;5;241m=\u001b[39m \u001b[38;5;28;01mTrue\u001b[39;00m\n",
      "File \u001b[0;32m~/miniconda3/envs/modnetori/lib/python3.9/site-packages/pandas/core/series.py:981\u001b[0m, in \u001b[0;36mSeries.__getitem__\u001b[0;34m(self, key)\u001b[0m\n\u001b[1;32m    978\u001b[0m     \u001b[38;5;28;01mreturn\u001b[39;00m \u001b[38;5;28mself\u001b[39m\u001b[38;5;241m.\u001b[39m_values[key]\n\u001b[1;32m    980\u001b[0m \u001b[38;5;28;01melif\u001b[39;00m key_is_scalar:\n\u001b[0;32m--> 981\u001b[0m     \u001b[38;5;28;01mreturn\u001b[39;00m \u001b[38;5;28;43mself\u001b[39;49m\u001b[38;5;241;43m.\u001b[39;49m\u001b[43m_get_value\u001b[49m\u001b[43m(\u001b[49m\u001b[43mkey\u001b[49m\u001b[43m)\u001b[49m\n\u001b[1;32m    983\u001b[0m \u001b[38;5;28;01mif\u001b[39;00m is_hashable(key):\n\u001b[1;32m    984\u001b[0m     \u001b[38;5;66;03m# Otherwise index.get_value will raise InvalidIndexError\u001b[39;00m\n\u001b[1;32m    985\u001b[0m     \u001b[38;5;28;01mtry\u001b[39;00m:\n\u001b[1;32m    986\u001b[0m         \u001b[38;5;66;03m# For labels that don't resolve as scalars like tuples and frozensets\u001b[39;00m\n",
      "File \u001b[0;32m~/miniconda3/envs/modnetori/lib/python3.9/site-packages/pandas/core/series.py:1089\u001b[0m, in \u001b[0;36mSeries._get_value\u001b[0;34m(self, label, takeable)\u001b[0m\n\u001b[1;32m   1086\u001b[0m     \u001b[38;5;28;01mreturn\u001b[39;00m \u001b[38;5;28mself\u001b[39m\u001b[38;5;241m.\u001b[39m_values[label]\n\u001b[1;32m   1088\u001b[0m \u001b[38;5;66;03m# Similar to Index.get_value, but we do not fall back to positional\u001b[39;00m\n\u001b[0;32m-> 1089\u001b[0m loc \u001b[38;5;241m=\u001b[39m \u001b[38;5;28;43mself\u001b[39;49m\u001b[38;5;241;43m.\u001b[39;49m\u001b[43mindex\u001b[49m\u001b[38;5;241;43m.\u001b[39;49m\u001b[43mget_loc\u001b[49m\u001b[43m(\u001b[49m\u001b[43mlabel\u001b[49m\u001b[43m)\u001b[49m\n\u001b[1;32m   1090\u001b[0m \u001b[38;5;28;01mreturn\u001b[39;00m \u001b[38;5;28mself\u001b[39m\u001b[38;5;241m.\u001b[39mindex\u001b[38;5;241m.\u001b[39m_get_values_for_loc(\u001b[38;5;28mself\u001b[39m, loc, label)\n",
      "File \u001b[0;32m~/miniconda3/envs/modnetori/lib/python3.9/site-packages/pandas/core/indexes/range.py:393\u001b[0m, in \u001b[0;36mRangeIndex.get_loc\u001b[0;34m(self, key, method, tolerance)\u001b[0m\n\u001b[1;32m    391\u001b[0m         \u001b[38;5;28;01mreturn\u001b[39;00m \u001b[38;5;28mself\u001b[39m\u001b[38;5;241m.\u001b[39m_range\u001b[38;5;241m.\u001b[39mindex(new_key)\n\u001b[1;32m    392\u001b[0m     \u001b[38;5;28;01mexcept\u001b[39;00m \u001b[38;5;167;01mValueError\u001b[39;00m \u001b[38;5;28;01mas\u001b[39;00m err:\n\u001b[0;32m--> 393\u001b[0m         \u001b[38;5;28;01mraise\u001b[39;00m \u001b[38;5;167;01mKeyError\u001b[39;00m(key) \u001b[38;5;28;01mfrom\u001b[39;00m \u001b[38;5;21;01merr\u001b[39;00m\n\u001b[1;32m    394\u001b[0m \u001b[38;5;28mself\u001b[39m\u001b[38;5;241m.\u001b[39m_check_indexing_error(key)\n\u001b[1;32m    395\u001b[0m \u001b[38;5;28;01mraise\u001b[39;00m \u001b[38;5;167;01mKeyError\u001b[39;00m(key)\n",
      "\u001b[0;31mKeyError\u001b[0m: 0"
     ]
    }
   ],
   "source": [
    "data_to_predict = MODData(structure_ids=ori_data[\"material_id\"],\n",
    "               materials = ori_data[\"structure\"].apply(lambda x: Structure.from_str(x, fmt=\"cif\"))[100:150],\n",
    "               targets = ori_data[[\"formation_energy_per_atom\",\"band_gap\"]][100:150],\n",
    "               target_names = [\"formation_energy_per_atom\",\"band_gap\"][100:150],\n",
    "               )"
   ]
  },
  {
   "cell_type": "code",
   "execution_count": null,
   "metadata": {},
   "outputs": [],
   "source": [
    "data_to_predict.featurize()\n",
    "df_predictions = model.predict(data_to_predict)"
   ]
  },
  {
   "cell_type": "code",
   "execution_count": null,
   "metadata": {},
   "outputs": [],
   "source": []
  },
  {
   "cell_type": "code",
   "execution_count": null,
   "metadata": {},
   "outputs": [],
   "source": []
  },
  {
   "cell_type": "code",
   "execution_count": null,
   "metadata": {},
   "outputs": [],
   "source": [
    "from modnet.models import MODNetModel\n",
    "model_pretrained = MODNetModel.load()"
   ]
  },
  {
   "cell_type": "code",
   "execution_count": null,
   "metadata": {},
   "outputs": [],
   "source": [
    "from modnet.preprocessing import MODData\n",
    "data_MP = MODData.load(\"data/MP_2018.6\")\n",
    "model.predict(data_MP)"
   ]
  }
 ],
 "metadata": {
  "kernelspec": {
   "display_name": "py39",
   "language": "python",
   "name": "python3"
  },
  "language_info": {
   "codemirror_mode": {
    "name": "ipython",
    "version": 3
   },
   "file_extension": ".py",
   "mimetype": "text/x-python",
   "name": "python",
   "nbconvert_exporter": "python",
   "pygments_lexer": "ipython3",
   "version": "3.9.18"
  }
 },
 "nbformat": 4,
 "nbformat_minor": 2
}
