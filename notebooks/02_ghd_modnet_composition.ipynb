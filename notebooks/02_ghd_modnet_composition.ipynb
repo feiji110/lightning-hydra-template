{
 "cells": [
  {
   "cell_type": "markdown",
   "metadata": {},
   "source": [
    "# Prediction of experimental band gap\n",
    "\n",
    "This notebooks applies MODNet on the matbench experimental band gap data. It is a good example on how MODNet can be used for a composition only task."
   ]
  },
  {
   "cell_type": "markdown",
   "metadata": {},
   "source": [
    "## Dependencies"
   ]
  },
  {
   "cell_type": "code",
   "execution_count": 1,
   "metadata": {},
   "outputs": [
    {
     "name": "stderr",
     "output_type": "stream",
     "text": [
      "2024-01-21 17:30:48.168214: I tensorflow/core/util/port.cc:113] oneDNN custom operations are on. You may see slightly different numerical results due to floating-point round-off errors from different computation orders. To turn them off, set the environment variable `TF_ENABLE_ONEDNN_OPTS=0`.\n",
      "2024-01-21 17:30:48.218996: E external/local_xla/xla/stream_executor/cuda/cuda_dnn.cc:9261] Unable to register cuDNN factory: Attempting to register factory for plugin cuDNN when one has already been registered\n",
      "2024-01-21 17:30:48.219055: E external/local_xla/xla/stream_executor/cuda/cuda_fft.cc:607] Unable to register cuFFT factory: Attempting to register factory for plugin cuFFT when one has already been registered\n",
      "2024-01-21 17:30:48.220618: E external/local_xla/xla/stream_executor/cuda/cuda_blas.cc:1515] Unable to register cuBLAS factory: Attempting to register factory for plugin cuBLAS when one has already been registered\n",
      "2024-01-21 17:30:48.228330: I tensorflow/core/platform/cpu_feature_guard.cc:182] This TensorFlow binary is optimized to use available CPU instructions in performance-critical operations.\n",
      "To enable the following instructions: AVX2 AVX_VNNI FMA, in other operations, rebuild TensorFlow with the appropriate compiler flags.\n",
      "2024-01-21 17:30:49.297319: W tensorflow/compiler/tf2tensorrt/utils/py_utils.cc:38] TF-TRT Warning: Could not find TensorRT\n",
      "/root/miniconda3/envs/modnetori/lib/python3.9/site-packages/tqdm/auto.py:21: TqdmWarning: IProgress not found. Please update jupyter and ipywidgets. See https://ipywidgets.readthedocs.io/en/stable/user_install.html\n",
      "  from .autonotebook import tqdm as notebook_tqdm\n"
     ]
    }
   ],
   "source": [
    "import numpy as np\n",
    "from matminer.datasets import load_dataset\n",
    "from modnet.models import MODNetModel\n",
    "from modnet.preprocessing import MODData\n",
    "import matplotlib.pyplot as plt \n",
    "from pymatgen.core import Composition"
   ]
  },
  {
   "cell_type": "markdown",
   "metadata": {},
   "source": [
    "## Dataset import:\n",
    "The matbench_expt_gap dataset contains measured band gaps for 4604 compositions of inorganic semiconductors from Zhuo et al., JPCL."
   ]
  },
  {
   "cell_type": "code",
   "execution_count": 2,
   "metadata": {},
   "outputs": [
    {
     "data": {
      "text/html": [
       "<div>\n",
       "<style scoped>\n",
       "    .dataframe tbody tr th:only-of-type {\n",
       "        vertical-align: middle;\n",
       "    }\n",
       "\n",
       "    .dataframe tbody tr th {\n",
       "        vertical-align: top;\n",
       "    }\n",
       "\n",
       "    .dataframe thead th {\n",
       "        text-align: right;\n",
       "    }\n",
       "</style>\n",
       "<table border=\"1\" class=\"dataframe\">\n",
       "  <thead>\n",
       "    <tr style=\"text-align: right;\">\n",
       "      <th></th>\n",
       "      <th>composition</th>\n",
       "      <th>gap expt</th>\n",
       "    </tr>\n",
       "  </thead>\n",
       "  <tbody>\n",
       "    <tr>\n",
       "      <th>0</th>\n",
       "      <td>(Ag, Au, S)</td>\n",
       "      <td>0.00</td>\n",
       "    </tr>\n",
       "    <tr>\n",
       "      <th>1</th>\n",
       "      <td>(Ag, W, Br)</td>\n",
       "      <td>0.00</td>\n",
       "    </tr>\n",
       "    <tr>\n",
       "      <th>2</th>\n",
       "      <td>(Ag, Ge, Pb, S)</td>\n",
       "      <td>1.83</td>\n",
       "    </tr>\n",
       "    <tr>\n",
       "      <th>3</th>\n",
       "      <td>(Ag, Ge, Pb, Se)</td>\n",
       "      <td>1.51</td>\n",
       "    </tr>\n",
       "    <tr>\n",
       "      <th>4</th>\n",
       "      <td>(Ag, B, Br)</td>\n",
       "      <td>0.00</td>\n",
       "    </tr>\n",
       "  </tbody>\n",
       "</table>\n",
       "</div>"
      ],
      "text/plain": [
       "        composition  gap expt\n",
       "0       (Ag, Au, S)      0.00\n",
       "1       (Ag, W, Br)      0.00\n",
       "2   (Ag, Ge, Pb, S)      1.83\n",
       "3  (Ag, Ge, Pb, Se)      1.51\n",
       "4       (Ag, B, Br)      0.00"
      ]
     },
     "execution_count": 2,
     "metadata": {},
     "output_type": "execute_result"
    }
   ],
   "source": [
    "from matminer.datasets import load_dataset\n",
    "\n",
    "df = load_dataset(\"matbench_expt_gap\")\n",
    "df[\"composition\"] = df[\"composition\"].map(Composition) # maps composition to a pymatgen composition object\n",
    "df.head()"
   ]
  },
  {
   "cell_type": "code",
   "execution_count": 3,
   "metadata": {},
   "outputs": [
    {
     "data": {
      "text/html": [
       "<div>\n",
       "<style scoped>\n",
       "    .dataframe tbody tr th:only-of-type {\n",
       "        vertical-align: middle;\n",
       "    }\n",
       "\n",
       "    .dataframe tbody tr th {\n",
       "        vertical-align: top;\n",
       "    }\n",
       "\n",
       "    .dataframe thead th {\n",
       "        text-align: right;\n",
       "    }\n",
       "</style>\n",
       "<table border=\"1\" class=\"dataframe\">\n",
       "  <thead>\n",
       "    <tr style=\"text-align: right;\">\n",
       "      <th></th>\n",
       "      <th>gap expt</th>\n",
       "    </tr>\n",
       "  </thead>\n",
       "  <tbody>\n",
       "    <tr>\n",
       "      <th>count</th>\n",
       "      <td>4604.000000</td>\n",
       "    </tr>\n",
       "    <tr>\n",
       "      <th>mean</th>\n",
       "      <td>0.975951</td>\n",
       "    </tr>\n",
       "    <tr>\n",
       "      <th>std</th>\n",
       "      <td>1.445034</td>\n",
       "    </tr>\n",
       "    <tr>\n",
       "      <th>min</th>\n",
       "      <td>0.000000</td>\n",
       "    </tr>\n",
       "    <tr>\n",
       "      <th>25%</th>\n",
       "      <td>0.000000</td>\n",
       "    </tr>\n",
       "    <tr>\n",
       "      <th>50%</th>\n",
       "      <td>0.000000</td>\n",
       "    </tr>\n",
       "    <tr>\n",
       "      <th>75%</th>\n",
       "      <td>1.812500</td>\n",
       "    </tr>\n",
       "    <tr>\n",
       "      <th>max</th>\n",
       "      <td>11.700000</td>\n",
       "    </tr>\n",
       "  </tbody>\n",
       "</table>\n",
       "</div>"
      ],
      "text/plain": [
       "          gap expt\n",
       "count  4604.000000\n",
       "mean      0.975951\n",
       "std       1.445034\n",
       "min       0.000000\n",
       "25%       0.000000\n",
       "50%       0.000000\n",
       "75%       1.812500\n",
       "max      11.700000"
      ]
     },
     "execution_count": 3,
     "metadata": {},
     "output_type": "execute_result"
    }
   ],
   "source": [
    "df.describe()"
   ]
  },
  {
   "cell_type": "code",
   "execution_count": 4,
   "metadata": {},
   "outputs": [
    {
     "data": {
      "text/plain": [
       "<matplotlib.legend.Legend at 0x7fa613b8fe50>"
      ]
     },
     "execution_count": 4,
     "metadata": {},
     "output_type": "execute_result"
    },
    {
     "data": {
      "image/png": "[encoded data removed]",
      "text/plain": [
       "<Figure size 640x480 with 1 Axes>"
      ]
     },
     "metadata": {},
     "output_type": "display_data"
    }
   ],
   "source": [
    "fig, ax = plt.subplots(facecolor=\"w\")\n",
    "ax.hist(df.where(df[\"gap expt\"] == 0)[\"gap expt\"], bins=1, density=False, label=\"Zero band gap\")\n",
    "ax.hist(df.where(df[\"gap expt\"] > 0)[\"gap expt\"], bins=11, density=False, label=\"Non-zero band gap\")\n",
    "ax.set_ylabel(\"Frequency\")\n",
    "ax.set_xlabel(\"Band gap (eV)\")\n",
    "ax.legend()"
   ]
  },
  {
   "cell_type": "markdown",
   "metadata": {},
   "source": [
    "## MODData"
   ]
  },
  {
   "cell_type": "code",
   "execution_count": 5,
   "metadata": {},
   "outputs": [
    {
     "name": "stdout",
     "output_type": "stream",
     "text": [
      "2024-01-21 17:31:33,801 - modnet - INFO - Loaded CompositionOnlyMatminer2023Featurizer featurizer.\n"
     ]
    }
   ],
   "source": [
    "# This instantiates the MODData\n",
    "data = MODData(\n",
    "    materials=df[\"composition\"], # you can provide composition objects to MODData\n",
    "    targets=df[\"gap expt\"], \n",
    "    target_names=[\"gap_expt_eV\"]\n",
    ")"
   ]
  },
  {
   "cell_type": "code",
   "execution_count": 6,
   "metadata": {},
   "outputs": [],
   "source": [
    "import warnings\n",
    "warnings.filterwarnings('ignore')"
   ]
  },
  {
   "cell_type": "code",
   "execution_count": 7,
   "metadata": {},
   "outputs": [
    {
     "name": "stdout",
     "output_type": "stream",
     "text": [
      "2024-01-21 17:32:06,422 - modnet - INFO - Computing features, this can take time...\n",
      "2024-01-21 17:32:06,424 - modnet - INFO - Applying composition featurizers...\n",
      "2024-01-21 17:32:06,431 - modnet - INFO - Applying featurizers (AtomicOrbitals(), AtomicPackingEfficiency(), BandCenter(), ElementFraction(), ElementProperty(data_source=<matminer.utils.data.MagpieData object at 0x7fa6121fe790>,\n",
      "                features=['Number', 'MendeleevNumber', 'AtomicWeight',\n",
      "                          'MeltingT', 'Column', 'Row', 'CovalentRadius',\n",
      "                          'Electronegativity', 'NsValence', 'NpValence',\n",
      "                          'NdValence', 'NfValence', 'NValence', 'NsUnfilled',\n",
      "                          'NpUnfilled', 'NdUnfilled', 'NfUnfilled', 'NUnfilled',\n",
      "                          'GSvolume_pa', 'GSbandgap', 'GSmagmom',\n",
      "                          'SpaceGroupNumber'],\n",
      "                stats=['minimum', 'maximum', 'range', 'mean', 'avg_dev',\n",
      "                       'mode']), IonProperty(), Miedema(ss_types=['min'], struct_types=['inter', 'amor', 'ss']), Stoichiometry(), TMetalFraction(), ValenceOrbital(), YangSolidSolution()) to column 'composition'.\n"
     ]
    },
    {
     "name": "stderr",
     "output_type": "stream",
     "text": [
      "MultipleFeaturizer: 100%|██████████| 4604/4604 [30:15<00:00,  2.54it/s]\n"
     ]
    },
    {
     "name": "stdout",
     "output_type": "stream",
     "text": [
      "2024-01-21 18:02:38,002 - modnet - INFO - Data has successfully been featurized!\n"
     ]
    }
   ],
   "source": [
    "# Featurization of the moddata\n",
    "# It will automatically apply composition only featurizers\n",
    "data.featurize(n_jobs=8)"
   ]
  },
  {
   "cell_type": "code",
   "execution_count": 8,
   "metadata": {},
   "outputs": [
    {
     "name": "stdout",
     "output_type": "stream",
     "text": [
      "2024-01-21 18:02:38,027 - modnet - INFO - Data successfully saved as out/matbench_expt_gap_nofeatureselection.moddata!\n"
     ]
    }
   ],
   "source": [
    "data.save('out/matbench_expt_gap_nofeatureselection.moddata')"
   ]
  },
  {
   "cell_type": "markdown",
   "metadata": {},
   "source": [
    "### train-test split"
   ]
  },
  {
   "cell_type": "code",
   "execution_count": 9,
   "metadata": {},
   "outputs": [],
   "source": [
    "from sklearn.model_selection import train_test_split\n",
    "split = train_test_split(range(100), test_size=0.1, random_state=1234)\n",
    "train, test = data.split(split)"
   ]
  },
  {
   "cell_type": "code",
   "execution_count": 10,
   "metadata": {},
   "outputs": [
    {
     "name": "stdout",
     "output_type": "stream",
     "text": [
      "2024-01-21 18:02:38,048 - modnet - INFO - Loading cross NMI from 'Features_cross' file.\n",
      "2024-01-21 18:02:38,079 - modnet - WARNING - Feature mismatch between precomputed `Features_cross` and `df_featurized`. Missing columns: {'Miedema|Miedema_deltaH_amor', 'Miedema|Miedema_deltaH_ss_min'}\n",
      "2024-01-21 18:02:38,082 - modnet - INFO - Starting target 1/1: gap_expt_eV ...\n",
      "2024-01-21 18:02:38,083 - modnet - INFO - Computing mutual information between features and target...\n",
      "2024-01-21 18:02:44,721 - modnet - INFO - Computing optimal features...\n",
      "2024-01-21 18:02:47,405 - modnet - INFO - Selected 50/242 features...\n",
      "2024-01-21 18:02:49,535 - modnet - INFO - Selected 100/242 features...\n",
      "2024-01-21 18:02:51,053 - modnet - INFO - Selected 150/242 features...\n",
      "2024-01-21 18:02:51,955 - modnet - INFO - Selected 200/242 features...\n",
      "2024-01-21 18:02:52,224 - modnet - INFO - Done with target 1/1: gap_expt_eV.\n",
      "2024-01-21 18:02:52,225 - modnet - INFO - Merging all features...\n",
      "2024-01-21 18:02:52,225 - modnet - INFO - Done.\n"
     ]
    }
   ],
   "source": [
    "# train.feature_selection(n=-1)\n",
    "# if you want to use precomputed cross_nmi of the MP. This saves time :\n",
    "data.feature_selection(n=-1, use_precomputed_cross_nmi=True)"
   ]
  },
  {
   "cell_type": "markdown",
   "metadata": {},
   "source": [
    "## MODNet model"
   ]
  },
  {
   "cell_type": "code",
   "execution_count": 11,
   "metadata": {},
   "outputs": [
    {
     "name": "stderr",
     "output_type": "stream",
     "text": [
      "2024-01-21 18:02:52.262332: I external/local_xla/xla/stream_executor/cuda/cuda_executor.cc:887] could not open file to read NUMA node: /sys/bus/pci/devices/0000:01:00.0/numa_node\n",
      "Your kernel may have been built without NUMA support.\n",
      "2024-01-21 18:02:52.295009: W tensorflow/core/common_runtime/gpu/gpu_device.cc:2256] Cannot dlopen some GPU libraries. Please make sure the missing libraries mentioned above are installed properly if you would like to use GPU. Follow the guide at https://www.tensorflow.org/install/gpu for how to download and setup the required libraries for your platform.\n",
      "Skipping registering GPU devices...\n"
     ]
    }
   ],
   "source": [
    "model = MODNetModel([[['gap_expt_eV']]],\n",
    "                    weights={'gap_expt_eV':1},\n",
    "                    num_neurons = [[256], [128], [16], [16]],\n",
    "                    n_feat = 150,\n",
    "                    act =  \"elu\"\n",
    "                   )"
   ]
  },
  {
   "cell_type": "markdown",
   "metadata": {},
   "source": [
    "### training"
   ]
  },
  {
   "cell_type": "code",
   "execution_count": 10,
   "metadata": {},
   "outputs": [
    {
     "name": "stdout",
     "output_type": "stream",
     "text": [
      "Epoch 1/100\n",
      "2/2 [==============================] - 0s 53ms/step - loss: 1.1403 - mae: 1.1403 - val_loss: 1.1806 - val_mae: 1.1806\n",
      "Epoch 2/100\n",
      "2/2 [==============================] - 0s 7ms/step - loss: 0.9577 - mae: 0.9577 - val_loss: 0.8098 - val_mae: 0.8098\n",
      "Epoch 3/100\n",
      "2/2 [==============================] - 0s 7ms/step - loss: 0.8267 - mae: 0.8267 - val_loss: 0.5956 - val_mae: 0.5956\n",
      "Epoch 4/100\n",
      "2/2 [==============================] - 0s 8ms/step - loss: 0.7825 - mae: 0.7825 - val_loss: 0.5075 - val_mae: 0.5075\n",
      "Epoch 5/100\n",
      "2/2 [==============================] - 0s 7ms/step - loss: 0.7321 - mae: 0.7321 - val_loss: 0.4663 - val_mae: 0.4663\n",
      "Epoch 6/100\n",
      "2/2 [==============================] - 0s 8ms/step - loss: 0.6460 - mae: 0.6460 - val_loss: 0.4526 - val_mae: 0.4526\n",
      "Epoch 7/100\n",
      "2/2 [==============================] - 0s 7ms/step - loss: 0.6106 - mae: 0.6106 - val_loss: 0.4397 - val_mae: 0.4397\n",
      "Epoch 8/100\n",
      "2/2 [==============================] - 0s 7ms/step - loss: 0.6307 - mae: 0.6307 - val_loss: 0.4066 - val_mae: 0.4066\n",
      "Epoch 9/100\n",
      "2/2 [==============================] - 0s 8ms/step - loss: 0.6335 - mae: 0.6335 - val_loss: 0.3399 - val_mae: 0.3399\n",
      "Epoch 10/100\n",
      "2/2 [==============================] - 0s 8ms/step - loss: 0.6024 - mae: 0.6024 - val_loss: 0.3611 - val_mae: 0.3611\n",
      "Epoch 11/100\n",
      "2/2 [==============================] - 0s 8ms/step - loss: 0.5935 - mae: 0.5935 - val_loss: 0.3748 - val_mae: 0.3748\n",
      "Epoch 12/100\n",
      "2/2 [==============================] - 0s 8ms/step - loss: 0.6024 - mae: 0.6024 - val_loss: 0.3613 - val_mae: 0.3613\n",
      "Epoch 13/100\n",
      "2/2 [==============================] - 0s 8ms/step - loss: 0.5872 - mae: 0.5872 - val_loss: 0.3380 - val_mae: 0.3380\n",
      "Epoch 14/100\n",
      "2/2 [==============================] - 0s 7ms/step - loss: 0.5521 - mae: 0.5521 - val_loss: 0.3084 - val_mae: 0.3084\n",
      "Epoch 15/100\n",
      "2/2 [==============================] - 0s 7ms/step - loss: 0.5124 - mae: 0.5124 - val_loss: 0.3470 - val_mae: 0.3470\n",
      "Epoch 16/100\n",
      "2/2 [==============================] - 0s 8ms/step - loss: 0.5071 - mae: 0.5071 - val_loss: 0.3885 - val_mae: 0.3885\n",
      "Epoch 17/100\n",
      "2/2 [==============================] - 0s 8ms/step - loss: 0.5099 - mae: 0.5099 - val_loss: 0.3749 - val_mae: 0.3749\n",
      "Epoch 18/100\n",
      "2/2 [==============================] - 0s 7ms/step - loss: 0.5000 - mae: 0.5000 - val_loss: 0.3229 - val_mae: 0.3229\n",
      "Epoch 19/100\n",
      "2/2 [==============================] - 0s 7ms/step - loss: 0.4938 - mae: 0.4938 - val_loss: 0.2932 - val_mae: 0.2932\n",
      "Epoch 20/100\n",
      "2/2 [==============================] - 0s 8ms/step - loss: 0.4896 - mae: 0.4896 - val_loss: 0.2916 - val_mae: 0.2916\n",
      "Epoch 21/100\n",
      "2/2 [==============================] - 0s 8ms/step - loss: 0.4728 - mae: 0.4728 - val_loss: 0.3292 - val_mae: 0.3292\n",
      "Epoch 22/100\n",
      "2/2 [==============================] - 0s 8ms/step - loss: 0.4632 - mae: 0.4632 - val_loss: 0.3369 - val_mae: 0.3369\n",
      "Epoch 23/100\n",
      "2/2 [==============================] - 0s 8ms/step - loss: 0.4573 - mae: 0.4573 - val_loss: 0.3149 - val_mae: 0.3149\n",
      "Epoch 24/100\n",
      "2/2 [==============================] - 0s 8ms/step - loss: 0.4447 - mae: 0.4447 - val_loss: 0.3194 - val_mae: 0.3194\n",
      "Epoch 25/100\n",
      "2/2 [==============================] - 0s 8ms/step - loss: 0.4426 - mae: 0.4426 - val_loss: 0.3206 - val_mae: 0.3206\n",
      "Epoch 26/100\n",
      "2/2 [==============================] - 0s 8ms/step - loss: 0.4319 - mae: 0.4319 - val_loss: 0.3186 - val_mae: 0.3186\n",
      "Epoch 27/100\n",
      "2/2 [==============================] - 0s 8ms/step - loss: 0.4270 - mae: 0.4270 - val_loss: 0.3013 - val_mae: 0.3013\n",
      "Epoch 28/100\n",
      "2/2 [==============================] - 0s 8ms/step - loss: 0.4189 - mae: 0.4189 - val_loss: 0.2897 - val_mae: 0.2897\n",
      "Epoch 29/100\n",
      "2/2 [==============================] - 0s 8ms/step - loss: 0.4151 - mae: 0.4151 - val_loss: 0.3195 - val_mae: 0.3195\n",
      "Epoch 30/100\n",
      "2/2 [==============================] - 0s 8ms/step - loss: 0.4068 - mae: 0.4068 - val_loss: 0.3268 - val_mae: 0.3268\n",
      "Epoch 31/100\n",
      "2/2 [==============================] - 0s 8ms/step - loss: 0.4006 - mae: 0.4006 - val_loss: 0.3174 - val_mae: 0.3174\n",
      "Epoch 32/100\n",
      "2/2 [==============================] - 0s 8ms/step - loss: 0.3943 - mae: 0.3943 - val_loss: 0.2972 - val_mae: 0.2972\n",
      "Epoch 33/100\n",
      "2/2 [==============================] - 0s 8ms/step - loss: 0.3893 - mae: 0.3893 - val_loss: 0.2909 - val_mae: 0.2909\n",
      "Epoch 34/100\n",
      "2/2 [==============================] - 0s 8ms/step - loss: 0.4032 - mae: 0.4032 - val_loss: 0.3035 - val_mae: 0.3035\n",
      "Epoch 35/100\n",
      "2/2 [==============================] - 0s 8ms/step - loss: 0.3910 - mae: 0.3910 - val_loss: 0.3518 - val_mae: 0.3518\n",
      "Epoch 36/100\n",
      "2/2 [==============================] - 0s 8ms/step - loss: 0.4157 - mae: 0.4157 - val_loss: 0.3268 - val_mae: 0.3268\n",
      "Epoch 37/100\n",
      "2/2 [==============================] - 0s 8ms/step - loss: 0.3787 - mae: 0.3787 - val_loss: 0.2772 - val_mae: 0.2772\n",
      "Epoch 38/100\n",
      "2/2 [==============================] - 0s 8ms/step - loss: 0.4021 - mae: 0.4021 - val_loss: 0.2739 - val_mae: 0.2739\n",
      "Epoch 39/100\n",
      "2/2 [==============================] - 0s 8ms/step - loss: 0.3857 - mae: 0.3857 - val_loss: 0.3349 - val_mae: 0.3349\n",
      "Epoch 40/100\n",
      "2/2 [==============================] - 0s 8ms/step - loss: 0.3699 - mae: 0.3699 - val_loss: 0.3300 - val_mae: 0.3300\n",
      "Epoch 41/100\n",
      "2/2 [==============================] - 0s 8ms/step - loss: 0.3686 - mae: 0.3686 - val_loss: 0.2848 - val_mae: 0.2848\n",
      "Epoch 42/100\n",
      "2/2 [==============================] - 0s 8ms/step - loss: 0.3618 - mae: 0.3618 - val_loss: 0.2708 - val_mae: 0.2708\n",
      "Epoch 43/100\n",
      "2/2 [==============================] - 0s 8ms/step - loss: 0.3633 - mae: 0.3633 - val_loss: 0.2664 - val_mae: 0.2664\n",
      "Epoch 44/100\n",
      "2/2 [==============================] - 0s 8ms/step - loss: 0.3563 - mae: 0.3563 - val_loss: 0.2749 - val_mae: 0.2749\n",
      "Epoch 45/100\n",
      "2/2 [==============================] - 0s 8ms/step - loss: 0.3504 - mae: 0.3504 - val_loss: 0.3002 - val_mae: 0.3002\n",
      "Epoch 46/100\n",
      "2/2 [==============================] - 0s 8ms/step - loss: 0.3551 - mae: 0.3551 - val_loss: 0.2617 - val_mae: 0.2617\n",
      "Epoch 47/100\n",
      "2/2 [==============================] - 0s 8ms/step - loss: 0.3462 - mae: 0.3462 - val_loss: 0.2476 - val_mae: 0.2476\n",
      "Epoch 48/100\n",
      "2/2 [==============================] - 0s 8ms/step - loss: 0.3529 - mae: 0.3529 - val_loss: 0.2612 - val_mae: 0.2612\n",
      "Epoch 49/100\n",
      "2/2 [==============================] - 0s 8ms/step - loss: 0.3468 - mae: 0.3468 - val_loss: 0.2711 - val_mae: 0.2711\n",
      "Epoch 50/100\n",
      "2/2 [==============================] - 0s 8ms/step - loss: 0.3432 - mae: 0.3432 - val_loss: 0.2457 - val_mae: 0.2457\n",
      "Epoch 51/100\n",
      "2/2 [==============================] - 0s 8ms/step - loss: 0.3377 - mae: 0.3377 - val_loss: 0.2663 - val_mae: 0.2663\n",
      "Epoch 52/100\n",
      "2/2 [==============================] - 0s 8ms/step - loss: 0.3370 - mae: 0.3370 - val_loss: 0.2847 - val_mae: 0.2847\n",
      "Epoch 53/100\n",
      "2/2 [==============================] - 0s 8ms/step - loss: 0.3323 - mae: 0.3323 - val_loss: 0.2692 - val_mae: 0.2692\n",
      "Epoch 54/100\n",
      "2/2 [==============================] - 0s 8ms/step - loss: 0.3240 - mae: 0.3240 - val_loss: 0.2706 - val_mae: 0.2706\n",
      "Epoch 55/100\n",
      "2/2 [==============================] - 0s 8ms/step - loss: 0.3310 - mae: 0.3310 - val_loss: 0.2606 - val_mae: 0.2606\n",
      "Epoch 56/100\n",
      "2/2 [==============================] - 0s 8ms/step - loss: 0.3298 - mae: 0.3298 - val_loss: 0.2561 - val_mae: 0.2561\n",
      "Epoch 57/100\n",
      "2/2 [==============================] - 0s 7ms/step - loss: 0.3256 - mae: 0.3256 - val_loss: 0.2406 - val_mae: 0.2406\n",
      "Epoch 58/100\n",
      "2/2 [==============================] - 0s 8ms/step - loss: 0.3221 - mae: 0.3221 - val_loss: 0.2469 - val_mae: 0.2469\n",
      "Epoch 59/100\n",
      "2/2 [==============================] - 0s 8ms/step - loss: 0.3148 - mae: 0.3148 - val_loss: 0.2829 - val_mae: 0.2829\n",
      "Epoch 60/100\n",
      "2/2 [==============================] - 0s 8ms/step - loss: 0.3173 - mae: 0.3173 - val_loss: 0.2982 - val_mae: 0.2982\n",
      "Epoch 61/100\n",
      "2/2 [==============================] - 0s 8ms/step - loss: 0.3278 - mae: 0.3278 - val_loss: 0.2672 - val_mae: 0.2672\n",
      "Epoch 62/100\n",
      "2/2 [==============================] - 0s 8ms/step - loss: 0.3147 - mae: 0.3147 - val_loss: 0.2564 - val_mae: 0.2564\n",
      "Epoch 63/100\n",
      "2/2 [==============================] - 0s 8ms/step - loss: 0.3023 - mae: 0.3023 - val_loss: 0.2661 - val_mae: 0.2661\n",
      "Epoch 64/100\n"
     ]
    },
    {
     "name": "stdout",
     "output_type": "stream",
     "text": [
      "2/2 [==============================] - 0s 8ms/step - loss: 0.3096 - mae: 0.3096 - val_loss: 0.2566 - val_mae: 0.2566\n",
      "Epoch 65/100\n",
      "2/2 [==============================] - 0s 8ms/step - loss: 0.3074 - mae: 0.3074 - val_loss: 0.2392 - val_mae: 0.2392\n",
      "Epoch 66/100\n",
      "2/2 [==============================] - 0s 8ms/step - loss: 0.3029 - mae: 0.3029 - val_loss: 0.2391 - val_mae: 0.2391\n",
      "Epoch 67/100\n",
      "2/2 [==============================] - 0s 8ms/step - loss: 0.2964 - mae: 0.2964 - val_loss: 0.2274 - val_mae: 0.2274\n",
      "Epoch 68/100\n",
      "2/2 [==============================] - 0s 8ms/step - loss: 0.2932 - mae: 0.2932 - val_loss: 0.2589 - val_mae: 0.2589\n",
      "Epoch 69/100\n",
      "2/2 [==============================] - 0s 7ms/step - loss: 0.3011 - mae: 0.3011 - val_loss: 0.2981 - val_mae: 0.2981\n",
      "Epoch 70/100\n",
      "2/2 [==============================] - 0s 8ms/step - loss: 0.2972 - mae: 0.2972 - val_loss: 0.2714 - val_mae: 0.2714\n",
      "Epoch 71/100\n",
      "2/2 [==============================] - 0s 8ms/step - loss: 0.2911 - mae: 0.2911 - val_loss: 0.2824 - val_mae: 0.2824\n",
      "Epoch 72/100\n",
      "2/2 [==============================] - 0s 8ms/step - loss: 0.2844 - mae: 0.2844 - val_loss: 0.2689 - val_mae: 0.2689\n",
      "Epoch 73/100\n",
      "2/2 [==============================] - 0s 8ms/step - loss: 0.2867 - mae: 0.2867 - val_loss: 0.2735 - val_mae: 0.2735\n",
      "Epoch 74/100\n",
      "2/2 [==============================] - 0s 8ms/step - loss: 0.2851 - mae: 0.2851 - val_loss: 0.2878 - val_mae: 0.2878\n",
      "Epoch 75/100\n",
      "2/2 [==============================] - 0s 8ms/step - loss: 0.2804 - mae: 0.2804 - val_loss: 0.2580 - val_mae: 0.2580\n",
      "Epoch 76/100\n",
      "2/2 [==============================] - 0s 8ms/step - loss: 0.2808 - mae: 0.2808 - val_loss: 0.2448 - val_mae: 0.2448\n",
      "Epoch 77/100\n",
      "2/2 [==============================] - 0s 8ms/step - loss: 0.2887 - mae: 0.2887 - val_loss: 0.2720 - val_mae: 0.2720\n",
      "Epoch 78/100\n",
      "2/2 [==============================] - 0s 8ms/step - loss: 0.2816 - mae: 0.2816 - val_loss: 0.2942 - val_mae: 0.2942\n",
      "Epoch 79/100\n",
      "2/2 [==============================] - 0s 7ms/step - loss: 0.2792 - mae: 0.2792 - val_loss: 0.2699 - val_mae: 0.2699\n",
      "Epoch 80/100\n",
      "2/2 [==============================] - 0s 8ms/step - loss: 0.2739 - mae: 0.2739 - val_loss: 0.2697 - val_mae: 0.2697\n",
      "Epoch 81/100\n",
      "2/2 [==============================] - 0s 8ms/step - loss: 0.2687 - mae: 0.2687 - val_loss: 0.3203 - val_mae: 0.3203\n",
      "Epoch 82/100\n",
      "2/2 [==============================] - 0s 8ms/step - loss: 0.2759 - mae: 0.2759 - val_loss: 0.2798 - val_mae: 0.2798\n",
      "Epoch 83/100\n",
      "2/2 [==============================] - 0s 8ms/step - loss: 0.2658 - mae: 0.2658 - val_loss: 0.2865 - val_mae: 0.2865\n",
      "Epoch 84/100\n",
      "2/2 [==============================] - 0s 8ms/step - loss: 0.2585 - mae: 0.2585 - val_loss: 0.3228 - val_mae: 0.3228\n",
      "Epoch 85/100\n",
      "2/2 [==============================] - 0s 7ms/step - loss: 0.2633 - mae: 0.2633 - val_loss: 0.2907 - val_mae: 0.2907\n",
      "Epoch 86/100\n",
      "2/2 [==============================] - 0s 8ms/step - loss: 0.2666 - mae: 0.2666 - val_loss: 0.3036 - val_mae: 0.3036\n",
      "Epoch 87/100\n",
      "2/2 [==============================] - 0s 8ms/step - loss: 0.2562 - mae: 0.2562 - val_loss: 0.3094 - val_mae: 0.3094\n",
      "Epoch 88/100\n",
      "2/2 [==============================] - 0s 8ms/step - loss: 0.2571 - mae: 0.2571 - val_loss: 0.2702 - val_mae: 0.2702\n",
      "Epoch 89/100\n",
      "2/2 [==============================] - 0s 8ms/step - loss: 0.2718 - mae: 0.2718 - val_loss: 0.2917 - val_mae: 0.2917\n",
      "Epoch 90/100\n",
      "2/2 [==============================] - 0s 8ms/step - loss: 0.2505 - mae: 0.2505 - val_loss: 0.2882 - val_mae: 0.2882\n",
      "Epoch 91/100\n",
      "2/2 [==============================] - 0s 8ms/step - loss: 0.2457 - mae: 0.2457 - val_loss: 0.3332 - val_mae: 0.3332\n",
      "Epoch 92/100\n",
      "2/2 [==============================] - 0s 8ms/step - loss: 0.2543 - mae: 0.2543 - val_loss: 0.3210 - val_mae: 0.3210\n",
      "Epoch 93/100\n",
      "2/2 [==============================] - 0s 8ms/step - loss: 0.2558 - mae: 0.2558 - val_loss: 0.2907 - val_mae: 0.2907\n",
      "Epoch 94/100\n",
      "2/2 [==============================] - 0s 8ms/step - loss: 0.2489 - mae: 0.2489 - val_loss: 0.3592 - val_mae: 0.3592\n",
      "Epoch 95/100\n",
      "2/2 [==============================] - 0s 8ms/step - loss: 0.2620 - mae: 0.2620 - val_loss: 0.3163 - val_mae: 0.3163\n",
      "Epoch 96/100\n",
      "2/2 [==============================] - 0s 8ms/step - loss: 0.2490 - mae: 0.2490 - val_loss: 0.2647 - val_mae: 0.2647\n",
      "Epoch 97/100\n",
      "2/2 [==============================] - 0s 7ms/step - loss: 0.2740 - mae: 0.2740 - val_loss: 0.3148 - val_mae: 0.3148\n",
      "Epoch 98/100\n",
      "2/2 [==============================] - 0s 8ms/step - loss: 0.2389 - mae: 0.2389 - val_loss: 0.3308 - val_mae: 0.3308\n",
      "Epoch 99/100\n",
      "2/2 [==============================] - 0s 8ms/step - loss: 0.2458 - mae: 0.2458 - val_loss: 0.3030 - val_mae: 0.3030\n",
      "Epoch 100/100\n",
      "2/2 [==============================] - 0s 8ms/step - loss: 0.2369 - mae: 0.2369 - val_loss: 0.3392 - val_mae: 0.3392\n"
     ]
    }
   ],
   "source": [
    "model.fit(train,\n",
    "          val_fraction = 0.1,\n",
    "          lr = 0.0002,\n",
    "          batch_size = 64,\n",
    "          loss = 'mae',\n",
    "          epochs = 100,\n",
    "          verbose = 1,\n",
    "         )"
   ]
  },
  {
   "cell_type": "markdown",
   "metadata": {},
   "source": [
    "### Predicting"
   ]
  },
  {
   "cell_type": "code",
   "execution_count": 14,
   "metadata": {},
   "outputs": [
    {
     "ename": "TypeError",
     "evalue": "'NoneType' object is not subscriptable",
     "output_type": "error",
     "traceback": [
      "\u001b[0;31m---------------------------------------------------------------------------\u001b[0m",
      "\u001b[0;31mTypeError\u001b[0m                                 Traceback (most recent call last)",
      "Cell \u001b[0;32mIn[14], line 1\u001b[0m\n\u001b[0;32m----> 1\u001b[0m pred \u001b[38;5;241m=\u001b[39m \u001b[43mmodel\u001b[49m\u001b[38;5;241;43m.\u001b[39;49m\u001b[43mpredict\u001b[49m\u001b[43m(\u001b[49m\u001b[43mtest\u001b[49m\u001b[43m)\u001b[49m\n\u001b[1;32m      2\u001b[0m pred\u001b[38;5;241m.\u001b[39mhead()\n\u001b[1;32m      3\u001b[0m \u001b[38;5;66;03m# \u001b[39;00m\n",
      "File \u001b[0;32m~/miniconda3/envs/modnetori/lib/python3.9/site-packages/modnet/models/vanilla.py:713\u001b[0m, in \u001b[0;36mMODNetModel.predict\u001b[0;34m(self, test_data, return_prob)\u001b[0m\n\u001b[1;32m    697\u001b[0m \u001b[38;5;250m\u001b[39m\u001b[38;5;124;03m\"\"\"Predict the target values for the passed MODData.\u001b[39;00m\n\u001b[1;32m    698\u001b[0m \n\u001b[1;32m    699\u001b[0m \u001b[38;5;124;03mParameters:\u001b[39;00m\n\u001b[0;32m   (...)\u001b[0m\n\u001b[1;32m    708\u001b[0m \n\u001b[1;32m    709\u001b[0m \u001b[38;5;124;03m\"\"\"\u001b[39;00m\n\u001b[1;32m    710\u001b[0m \u001b[38;5;66;03m# prevents Nan predictions if some features are inf\u001b[39;00m\n\u001b[1;32m    711\u001b[0m x \u001b[38;5;241m=\u001b[39m (\n\u001b[1;32m    712\u001b[0m     test_data\u001b[38;5;241m.\u001b[39mget_featurized_df()\n\u001b[0;32m--> 713\u001b[0m     \u001b[38;5;241m.\u001b[39mreplace([np\u001b[38;5;241m.\u001b[39minf, \u001b[38;5;241m-\u001b[39mnp\u001b[38;5;241m.\u001b[39minf], np\u001b[38;5;241m.\u001b[39mnan)[\u001b[38;5;28;43mself\u001b[39;49m\u001b[38;5;241;43m.\u001b[39;49m\u001b[43moptimal_descriptors\u001b[49m\u001b[43m[\u001b[49m\u001b[43m:\u001b[49m\u001b[43m \u001b[49m\u001b[38;5;28;43mself\u001b[39;49m\u001b[38;5;241;43m.\u001b[39;49m\u001b[43mn_feat\u001b[49m\u001b[43m]\u001b[49m]\n\u001b[1;32m    714\u001b[0m     \u001b[38;5;241m.\u001b[39mvalues\n\u001b[1;32m    715\u001b[0m )\n\u001b[1;32m    717\u001b[0m \u001b[38;5;66;03m# Scale and impute input features:\u001b[39;00m\n\u001b[1;32m    718\u001b[0m \u001b[38;5;28;01mif\u001b[39;00m \u001b[38;5;28mself\u001b[39m\u001b[38;5;241m.\u001b[39m_scale_impute \u001b[38;5;129;01mis\u001b[39;00m \u001b[38;5;129;01mnot\u001b[39;00m \u001b[38;5;28;01mNone\u001b[39;00m:\n",
      "\u001b[0;31mTypeError\u001b[0m: 'NoneType' object is not subscriptable"
     ]
    }
   ],
   "source": [
    "pred = model.predict(test)\n",
    "pred.head()\n",
    "# "
   ]
  },
  {
   "cell_type": "code",
   "execution_count": 11,
   "metadata": {},
   "outputs": [
    {
     "data": {
      "text/html": [
       "<div>\n",
       "<style scoped>\n",
       "    .dataframe tbody tr th:only-of-type {\n",
       "        vertical-align: middle;\n",
       "    }\n",
       "\n",
       "    .dataframe tbody tr th {\n",
       "        vertical-align: top;\n",
       "    }\n",
       "\n",
       "    .dataframe thead th {\n",
       "        text-align: right;\n",
       "    }\n",
       "</style>\n",
       "<table border=\"1\" class=\"dataframe\">\n",
       "  <thead>\n",
       "    <tr style=\"text-align: right;\">\n",
       "      <th></th>\n",
       "      <th>gap_expt_eV</th>\n",
       "    </tr>\n",
       "  </thead>\n",
       "  <tbody>\n",
       "    <tr>\n",
       "      <th>id40</th>\n",
       "      <td>-0.508559</td>\n",
       "    </tr>\n",
       "    <tr>\n",
       "      <th>id35</th>\n",
       "      <td>2.871215</td>\n",
       "    </tr>\n",
       "    <tr>\n",
       "      <th>id81</th>\n",
       "      <td>-0.570688</td>\n",
       "    </tr>\n",
       "    <tr>\n",
       "      <th>id61</th>\n",
       "      <td>1.950733</td>\n",
       "    </tr>\n",
       "    <tr>\n",
       "      <th>id98</th>\n",
       "      <td>2.004308</td>\n",
       "    </tr>\n",
       "  </tbody>\n",
       "</table>\n",
       "</div>"
      ],
      "text/plain": [
       "      gap_expt_eV\n",
       "id40    -0.508559\n",
       "id35     2.871215\n",
       "id81    -0.570688\n",
       "id61     1.950733\n",
       "id98     2.004308"
      ]
     },
     "execution_count": 11,
     "metadata": {},
     "output_type": "execute_result"
    }
   ],
   "source": [
    "pred = model.predict(test)\n",
    "pred.head()"
   ]
  },
  {
   "cell_type": "code",
   "execution_count": null,
   "metadata": {},
   "outputs": [],
   "source": [
    "mae_test = np.absolute(pred.values-test.df_targets.values).mean()\n",
    "print(f'mae: {mae_test}')\n",
    "# "
   ]
  },
  {
   "cell_type": "code",
   "execution_count": 12,
   "metadata": {},
   "outputs": [
    {
     "name": "stdout",
     "output_type": "stream",
     "text": [
      "mae: 0.3859002037048341\n"
     ]
    }
   ],
   "source": [
    "mae_test = np.absolute(pred.values-test.df_targets.values).mean()\n",
    "print(f'mae: {mae_test}')"
   ]
  },
  {
   "cell_type": "code",
   "execution_count": null,
   "metadata": {},
   "outputs": [],
   "source": []
  }
 ],
 "metadata": {
  "kernelspec": {
   "display_name": "modnetori",
   "language": "python",
   "name": "python3"
  },
  "language_info": {
   "codemirror_mode": {
    "name": "ipython",
    "version": 3
   },
   "file_extension": ".py",
   "mimetype": "text/x-python",
   "name": "python",
   "nbconvert_exporter": "python",
   "pygments_lexer": "ipython3",
   "version": "3.9.18"
  }
 },
 "nbformat": 4,
 "nbformat_minor": 4
}
